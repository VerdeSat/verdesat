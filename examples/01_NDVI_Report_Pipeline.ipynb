{
 "cells": [
  {
   "cell_type": "markdown",
   "id": "dd63584d",
   "metadata": {},
   "source": [
    "# VerdeSat Example 1: NDVI Report Pipeline\n",
    "This notebook demonstrates how to run the end-to-end NDVI workflow using the **ReportPipeline** class."
   ]
  },
  {
   "cell_type": "code",
   "execution_count": null,
   "id": "920069f5",
   "metadata": {},
   "outputs": [],
   "source": [
    "from shapely.geometry import Polygon\n",
    "from verdesat.geo.aoi import AOI\n",
    "from verdesat.ingestion.sensorspec import SensorSpec\n",
    "from verdesat.ingestion import create_ingestor\n",
    "from verdesat.core.pipeline import ReportPipeline\n",
    "from verdesat.visualization.visualizer import Visualizer"
   ]
  },
  {
   "cell_type": "markdown",
   "id": "7ed635a9",
   "metadata": {},
   "source": [
    "## 1. Define AOIs"
   ]
  },
  {
   "cell_type": "code",
   "execution_count": null,
   "id": "b1f04bb4",
   "metadata": {},
   "outputs": [],
   "source": [
    "# Simple square AOI covering 1x1 degree\n",
    "poly = Polygon([(0, 0), (0, 1), (1, 1), (1, 0), (0, 0)])\n",
    "aois = [AOI(poly, static_props={\"id\": 1, \"name\": \"DemoSite\"})]"
   ]
  },
  {
   "cell_type": "markdown",
   "id": "568eff9b",
   "metadata": {},
   "source": [
    "## 2. Create Ingestor and Visualizer"
   ]
  },
  {
   "cell_type": "code",
   "execution_count": null,
   "id": "4fd2fef1",
   "metadata": {},
   "outputs": [],
   "source": [
    "sensor = SensorSpec.from_collection_id(\"NASA/HLS/HLSL30/v002\")\n",
    "ingestor = create_ingestor(\"ee\", sensor)\n",
    "visualizer = Visualizer()"
   ]
  },
  {
   "cell_type": "markdown",
   "id": "809c6cb5",
   "metadata": {},
   "source": [
    "## 3. Run the Report Pipeline"
   ]
  },
  {
   "cell_type": "code",
   "execution_count": null,
   "id": "bc9a476a",
   "metadata": {},
   "outputs": [],
   "source": [
    "pipeline = ReportPipeline(aois=aois, ingestor=ingestor, visualizer=visualizer)\n",
    "# Running this will download data from Earth Engine and generate plots and a report.\n",
    "# Uncomment to execute once EE credentials are configured.\n",
    "# report_path = pipeline.run(start='2020-01-01', end='2020-12-31', out_dir='demo_output')"
   ]
  },
  {
   "cell_type": "markdown",
   "id": "d309a792",
   "metadata": {},
   "source": [
    "The pipeline downloads NDVI time series, fills gaps, performs seasonal decomposition, exports image chips, builds GIFs and finally creates an HTML report."
   ]
  }
 ],
 "metadata": {},
 "nbformat": 4,
 "nbformat_minor": 5
}
