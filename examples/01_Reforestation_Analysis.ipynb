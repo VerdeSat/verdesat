{
 "cells": [
  {
   "cell_type": "markdown",
   "id": "942083be",
   "metadata": {},
   "source": [
    "# Example: Monitoring Reforestation Projects\n",
    "This notebook demonstrates how to work with **VerdeSat** services on a real-world dataset. The GeoJSON below represents three small reforestation projects in Chiapas, Mexico. We'll compute NDVI time series, land-cover metrics, a B-Score, and validate using citizen‑science observations."
   ]
  },
  {
   "cell_type": "code",
   "execution_count": 26,
   "id": "c2756977",
   "metadata": {},
   "outputs": [],
   "source": [
    "geojson_path = \"examples/reforestation_plots.geojson\""
   ]
  },
  {
   "cell_type": "code",
   "execution_count": 27,
   "id": "cee6c092",
   "metadata": {},
   "outputs": [],
   "source": [
    "from verdesat.geo.aoi import AOI\n",
    "from verdesat.ingestion.earthengine_ingestor import EarthEngineIngestor\n",
    "from verdesat.ingestion.sensorspec import SensorSpec\n",
    "from verdesat.analytics.timeseries import TimeSeries\n",
    "from verdesat.services.landcover import LandcoverService\n",
    "from verdesat.biodiv.metrics import MetricEngine\n",
    "from verdesat.biodiv.bscore import BScoreCalculator\n",
    "from verdesat.biodiv.gbif_validator import OccurrenceService, plot_score_vs_density\n"
   ]
  },
  {
   "cell_type": "code",
   "execution_count": 28,
   "id": "42a84b94",
   "metadata": {},
   "outputs": [
    {
     "name": "stdout",
     "output_type": "stream",
     "text": [
      "None 2.2290295417198608e-06\n",
      "None 2.0710699275829863e-06\n",
      "None 8.769081313212721e-06\n"
     ]
    }
   ],
   "source": [
    "aois = AOI.from_geojson(geojson_path, id_col='ID2')\n",
    "for aoi in aois:\n",
    "    print(aoi.static_props.get('id'), aoi.geometry.area)"
   ]
  },
  {
   "cell_type": "code",
   "execution_count": 29,
   "id": "348dabf3",
   "metadata": {},
   "outputs": [
    {
     "name": "stderr",
     "output_type": "stream",
     "text": [
      "2025-07-28 19:25:27 [INFO] verdesat.services.timeseries – Loading AOIs from examples/reforestation_plots.geojson\n",
      "/Users/andreydara/verdesat/code/verdesat/verdesat/ingestion/downloader.py:84: FutureWarning:\n",
      "\n",
      "The behavior of DataFrame concatenation with empty or all-NA entries is deprecated. In a future version, this will no longer exclude empty or all-NA columns when determining the result dtypes. To retain the old behavior, exclude the relevant entries before the concat operation.\n",
      "\n",
      "/Users/andreydara/verdesat/code/verdesat/verdesat/ingestion/downloader.py:84: FutureWarning:\n",
      "\n",
      "The behavior of DataFrame concatenation with empty or all-NA entries is deprecated. In a future version, this will no longer exclude empty or all-NA columns when determining the result dtypes. To retain the old behavior, exclude the relevant entries before the concat operation.\n",
      "\n",
      "/Users/andreydara/verdesat/code/verdesat/verdesat/ingestion/downloader.py:84: FutureWarning:\n",
      "\n",
      "The behavior of DataFrame concatenation with empty or all-NA entries is deprecated. In a future version, this will no longer exclude empty or all-NA columns when determining the result dtypes. To retain the old behavior, exclude the relevant entries before the concat operation.\n",
      "\n",
      "2025-07-28 19:30:02 [INFO] verdesat.services.timeseries – Writing results to examples/reforestation_ts.csv\n"
     ]
    },
    {
     "data": {
      "text/html": [
       "<pre style=\"white-space:pre;overflow-x:auto;line-height:normal;font-family:Menlo,'DejaVu Sans Mono',consolas,'Courier New',monospace\"></pre>\n"
      ],
      "text/plain": []
     },
     "metadata": {},
     "output_type": "display_data"
    },
    {
     "data": {
      "application/vnd.microsoft.datawrangler.viewer.v0+json": {
       "columns": [
        {
         "name": "index",
         "rawType": "int64",
         "type": "integer"
        },
        {
         "name": "id",
         "rawType": "int64",
         "type": "integer"
        },
        {
         "name": "date",
         "rawType": "datetime64[ns]",
         "type": "datetime"
        },
        {
         "name": "mean_ndvi",
         "rawType": "float64",
         "type": "float"
        }
       ],
       "ref": "42727105-f0ba-4509-b7d2-9e49ff767398",
       "rows": [
        [
         "0",
         "1",
         "2019-01-01 00:00:00",
         "0.8242764544932433"
        ],
        [
         "1",
         "1",
         "2019-01-02 00:00:00",
         null
        ],
        [
         "2",
         "1",
         "2019-01-03 00:00:00",
         null
        ],
        [
         "3",
         "1",
         "2019-01-04 00:00:00",
         null
        ],
        [
         "4",
         "1",
         "2019-01-05 00:00:00",
         null
        ]
       ],
       "shape": {
        "columns": 3,
        "rows": 5
       }
      },
      "text/html": [
       "<div>\n",
       "<style scoped>\n",
       "    .dataframe tbody tr th:only-of-type {\n",
       "        vertical-align: middle;\n",
       "    }\n",
       "\n",
       "    .dataframe tbody tr th {\n",
       "        vertical-align: top;\n",
       "    }\n",
       "\n",
       "    .dataframe thead th {\n",
       "        text-align: right;\n",
       "    }\n",
       "</style>\n",
       "<table border=\"1\" class=\"dataframe\">\n",
       "  <thead>\n",
       "    <tr style=\"text-align: right;\">\n",
       "      <th></th>\n",
       "      <th>id</th>\n",
       "      <th>date</th>\n",
       "      <th>mean_ndvi</th>\n",
       "    </tr>\n",
       "  </thead>\n",
       "  <tbody>\n",
       "    <tr>\n",
       "      <th>0</th>\n",
       "      <td>1</td>\n",
       "      <td>2019-01-01</td>\n",
       "      <td>0.824276</td>\n",
       "    </tr>\n",
       "    <tr>\n",
       "      <th>1</th>\n",
       "      <td>1</td>\n",
       "      <td>2019-01-02</td>\n",
       "      <td>NaN</td>\n",
       "    </tr>\n",
       "    <tr>\n",
       "      <th>2</th>\n",
       "      <td>1</td>\n",
       "      <td>2019-01-03</td>\n",
       "      <td>NaN</td>\n",
       "    </tr>\n",
       "    <tr>\n",
       "      <th>3</th>\n",
       "      <td>1</td>\n",
       "      <td>2019-01-04</td>\n",
       "      <td>NaN</td>\n",
       "    </tr>\n",
       "    <tr>\n",
       "      <th>4</th>\n",
       "      <td>1</td>\n",
       "      <td>2019-01-05</td>\n",
       "      <td>NaN</td>\n",
       "    </tr>\n",
       "  </tbody>\n",
       "</table>\n",
       "</div>"
      ],
      "text/plain": [
       "\n",
       "   id       date  mean_ndvi\n",
       "\u001b[1;36m0\u001b[0m   \u001b[1;36m1\u001b[0m \u001b[1;36m2019\u001b[0m-\u001b[1;36m01\u001b[0m-\u001b[1;36m01\u001b[0m   \u001b[1;36m0.824276\u001b[0m\n",
       "\u001b[1;36m1\u001b[0m   \u001b[1;36m1\u001b[0m \u001b[1;36m2019\u001b[0m-\u001b[1;36m01\u001b[0m-\u001b[1;36m02\u001b[0m        NaN\n",
       "\u001b[1;36m2\u001b[0m   \u001b[1;36m1\u001b[0m \u001b[1;36m2019\u001b[0m-\u001b[1;36m01\u001b[0m-\u001b[1;36m03\u001b[0m        NaN\n",
       "\u001b[1;36m3\u001b[0m   \u001b[1;36m1\u001b[0m \u001b[1;36m2019\u001b[0m-\u001b[1;36m01\u001b[0m-\u001b[1;36m04\u001b[0m        NaN\n",
       "\u001b[1;36m4\u001b[0m   \u001b[1;36m1\u001b[0m \u001b[1;36m2019\u001b[0m-\u001b[1;36m01\u001b[0m-\u001b[1;36m05\u001b[0m        NaN"
      ]
     },
     "execution_count": 29,
     "metadata": {},
     "output_type": "execute_result"
    }
   ],
   "source": [
    "from verdesat.services.timeseries import download_timeseries\n",
    "\n",
    "ts_df = download_timeseries(\n",
    "    geojson=geojson_path,\n",
    "    collection='NASA/HLS/HLSL30/v002',\n",
    "    start='2019-01-01',\n",
    "    end='2024-12-31',\n",
    "    scale=30,\n",
    "    chunk_freq='ME',\n",
    "    agg='D',\n",
    "    output='examples/reforestation_ts.csv',\n",
    ")\n",
    "ts_df.head()"
   ]
  },
  {
   "cell_type": "code",
   "execution_count": 31,
   "id": "3884f5b0",
   "metadata": {},
   "outputs": [
    {
     "name": "stderr",
     "output_type": "stream",
     "text": [
      "2025-07-28 19:34:19 [WARNING] googleapiclient.http – Sleeping 1.90 seconds before retry 1 of 5 for request: POST https://earthengine.googleapis.com/v1/projects/ee-andreydara/value:compute?prettyPrint=false&alt=json, after ('Connection aborted.', RemoteDisconnected('Remote end closed connection without response'))\n",
      "2025-07-28 19:35:21 [WARNING] googleapiclient.http – Sleeping 2.34 seconds before retry 2 of 5 for request: POST https://earthengine.googleapis.com/v1/projects/ee-andreydara/value:compute?prettyPrint=false&alt=json, after ('Connection aborted.', RemoteDisconnected('Remote end closed connection without response'))\n"
     ]
    },
    {
     "ename": "KeyboardInterrupt",
     "evalue": "",
     "output_type": "error",
     "traceback": [
      "\u001b[31m---------------------------------------------------------------------------\u001b[39m",
      "\u001b[31mKeyboardInterrupt\u001b[39m                         Traceback (most recent call last)",
      "\u001b[36mCell\u001b[39m\u001b[36m \u001b[39m\u001b[32mIn[31]\u001b[39m\u001b[32m, line 16\u001b[39m\n\u001b[32m      6\u001b[39m ndvi_coll = base_ic.map(\u001b[38;5;28;01mlambda\u001b[39;00m img: sensor.compute_index(img, \u001b[33m'\u001b[39m\u001b[33mndvi\u001b[39m\u001b[33m'\u001b[39m))\n\u001b[32m      7\u001b[39m composites = AnalyticsEngine.build_composites(\n\u001b[32m      8\u001b[39m     base_ic=ndvi_coll,\n\u001b[32m      9\u001b[39m     period=\u001b[33m'\u001b[39m\u001b[33mME\u001b[39m\u001b[33m'\u001b[39m,\n\u001b[32m   (...)\u001b[39m\u001b[32m     14\u001b[39m     scale=\u001b[32m30\u001b[39m,\n\u001b[32m     15\u001b[39m )\n\u001b[32m---> \u001b[39m\u001b[32m16\u001b[39m \u001b[43mcomposites\u001b[49m\u001b[43m.\u001b[49m\u001b[43msize\u001b[49m\u001b[43m(\u001b[49m\u001b[43m)\u001b[49m\u001b[43m.\u001b[49m\u001b[43mgetInfo\u001b[49m\u001b[43m(\u001b[49m\u001b[43m)\u001b[49m  \u001b[38;5;66;03m# number of composites\u001b[39;00m\n",
      "\u001b[36mFile \u001b[39m\u001b[32m~/verdesat/code/verdesat/.venv/lib/python3.11/site-packages/ee/computedobject.py:107\u001b[39m, in \u001b[36mComputedObject.getInfo\u001b[39m\u001b[34m(self)\u001b[39m\n\u001b[32m    101\u001b[39m \u001b[38;5;28;01mdef\u001b[39;00m\u001b[38;5;250m \u001b[39m\u001b[34mgetInfo\u001b[39m(\u001b[38;5;28mself\u001b[39m) -> Optional[Any]:\n\u001b[32m    102\u001b[39m \u001b[38;5;250m  \u001b[39m\u001b[33;03m\"\"\"Fetch and return information about this object.\u001b[39;00m\n\u001b[32m    103\u001b[39m \n\u001b[32m    104\u001b[39m \u001b[33;03m  Returns:\u001b[39;00m\n\u001b[32m    105\u001b[39m \u001b[33;03m    The object can evaluate to anything.\u001b[39;00m\n\u001b[32m    106\u001b[39m \u001b[33;03m  \"\"\"\u001b[39;00m\n\u001b[32m--> \u001b[39m\u001b[32m107\u001b[39m   \u001b[38;5;28;01mreturn\u001b[39;00m \u001b[43mdata\u001b[49m\u001b[43m.\u001b[49m\u001b[43mcomputeValue\u001b[49m\u001b[43m(\u001b[49m\u001b[38;5;28;43mself\u001b[39;49m\u001b[43m)\u001b[49m\n",
      "\u001b[36mFile \u001b[39m\u001b[32m~/verdesat/code/verdesat/.venv/lib/python3.11/site-packages/ee/data.py:1128\u001b[39m, in \u001b[36mcomputeValue\u001b[39m\u001b[34m(obj)\u001b[39m\n\u001b[32m   1125\u001b[39m body = {\u001b[33m'\u001b[39m\u001b[33mexpression\u001b[39m\u001b[33m'\u001b[39m: serializer.encode(obj, for_cloud_api=\u001b[38;5;28;01mTrue\u001b[39;00m)}\n\u001b[32m   1126\u001b[39m _maybe_populate_workload_tag(body)\n\u001b[32m-> \u001b[39m\u001b[32m1128\u001b[39m \u001b[38;5;28;01mreturn\u001b[39;00m \u001b[43m_execute_cloud_call\u001b[49m\u001b[43m(\u001b[49m\n\u001b[32m   1129\u001b[39m \u001b[43m    \u001b[49m\u001b[43m_get_cloud_projects\u001b[49m\u001b[43m(\u001b[49m\u001b[43m)\u001b[49m\n\u001b[32m   1130\u001b[39m \u001b[43m    \u001b[49m\u001b[43m.\u001b[49m\u001b[43mvalue\u001b[49m\u001b[43m(\u001b[49m\u001b[43m)\u001b[49m\n\u001b[32m   1131\u001b[39m \u001b[43m    \u001b[49m\u001b[43m.\u001b[49m\u001b[43mcompute\u001b[49m\u001b[43m(\u001b[49m\u001b[43mbody\u001b[49m\u001b[43m=\u001b[49m\u001b[43mbody\u001b[49m\u001b[43m,\u001b[49m\u001b[43m \u001b[49m\u001b[43mproject\u001b[49m\u001b[43m=\u001b[49m\u001b[43m_get_projects_path\u001b[49m\u001b[43m(\u001b[49m\u001b[43m)\u001b[49m\u001b[43m,\u001b[49m\u001b[43m \u001b[49m\u001b[43mprettyPrint\u001b[49m\u001b[43m=\u001b[49m\u001b[38;5;28;43;01mFalse\u001b[39;49;00m\u001b[43m)\u001b[49m\n\u001b[32m   1132\u001b[39m \u001b[43m\u001b[49m\u001b[43m)\u001b[49m[\u001b[33m'\u001b[39m\u001b[33mresult\u001b[39m\u001b[33m'\u001b[39m]\n",
      "\u001b[36mFile \u001b[39m\u001b[32m~/verdesat/code/verdesat/.venv/lib/python3.11/site-packages/ee/data.py:408\u001b[39m, in \u001b[36m_execute_cloud_call\u001b[39m\u001b[34m(call, num_retries)\u001b[39m\n\u001b[32m    406\u001b[39m num_retries = _max_retries \u001b[38;5;28;01mif\u001b[39;00m num_retries \u001b[38;5;129;01mis\u001b[39;00m \u001b[38;5;28;01mNone\u001b[39;00m \u001b[38;5;28;01melse\u001b[39;00m num_retries\n\u001b[32m    407\u001b[39m \u001b[38;5;28;01mtry\u001b[39;00m:\n\u001b[32m--> \u001b[39m\u001b[32m408\u001b[39m   \u001b[38;5;28;01mreturn\u001b[39;00m \u001b[43mcall\u001b[49m\u001b[43m.\u001b[49m\u001b[43mexecute\u001b[49m\u001b[43m(\u001b[49m\u001b[43mnum_retries\u001b[49m\u001b[43m=\u001b[49m\u001b[43mnum_retries\u001b[49m\u001b[43m)\u001b[49m\n\u001b[32m    409\u001b[39m \u001b[38;5;28;01mexcept\u001b[39;00m googleapiclient.errors.HttpError \u001b[38;5;28;01mas\u001b[39;00m e:\n\u001b[32m    410\u001b[39m   \u001b[38;5;28;01mraise\u001b[39;00m _translate_cloud_exception(e)\n",
      "\u001b[36mFile \u001b[39m\u001b[32m~/verdesat/code/verdesat/.venv/lib/python3.11/site-packages/googleapiclient/_helpers.py:130\u001b[39m, in \u001b[36mpositional.<locals>.positional_decorator.<locals>.positional_wrapper\u001b[39m\u001b[34m(*args, **kwargs)\u001b[39m\n\u001b[32m    128\u001b[39m     \u001b[38;5;28;01melif\u001b[39;00m positional_parameters_enforcement == POSITIONAL_WARNING:\n\u001b[32m    129\u001b[39m         logger.warning(message)\n\u001b[32m--> \u001b[39m\u001b[32m130\u001b[39m \u001b[38;5;28;01mreturn\u001b[39;00m \u001b[43mwrapped\u001b[49m\u001b[43m(\u001b[49m\u001b[43m*\u001b[49m\u001b[43margs\u001b[49m\u001b[43m,\u001b[49m\u001b[43m \u001b[49m\u001b[43m*\u001b[49m\u001b[43m*\u001b[49m\u001b[43mkwargs\u001b[49m\u001b[43m)\u001b[49m\n",
      "\u001b[36mFile \u001b[39m\u001b[32m~/verdesat/code/verdesat/.venv/lib/python3.11/site-packages/googleapiclient/http.py:923\u001b[39m, in \u001b[36mHttpRequest.execute\u001b[39m\u001b[34m(self, http, num_retries)\u001b[39m\n\u001b[32m    920\u001b[39m     \u001b[38;5;28mself\u001b[39m.headers[\u001b[33m\"\u001b[39m\u001b[33mcontent-length\u001b[39m\u001b[33m\"\u001b[39m] = \u001b[38;5;28mstr\u001b[39m(\u001b[38;5;28mlen\u001b[39m(\u001b[38;5;28mself\u001b[39m.body))\n\u001b[32m    922\u001b[39m \u001b[38;5;66;03m# Handle retries for server-side errors.\u001b[39;00m\n\u001b[32m--> \u001b[39m\u001b[32m923\u001b[39m resp, content = \u001b[43m_retry_request\u001b[49m\u001b[43m(\u001b[49m\n\u001b[32m    924\u001b[39m \u001b[43m    \u001b[49m\u001b[43mhttp\u001b[49m\u001b[43m,\u001b[49m\n\u001b[32m    925\u001b[39m \u001b[43m    \u001b[49m\u001b[43mnum_retries\u001b[49m\u001b[43m,\u001b[49m\n\u001b[32m    926\u001b[39m \u001b[43m    \u001b[49m\u001b[33;43m\"\u001b[39;49m\u001b[33;43mrequest\u001b[39;49m\u001b[33;43m\"\u001b[39;49m\u001b[43m,\u001b[49m\n\u001b[32m    927\u001b[39m \u001b[43m    \u001b[49m\u001b[38;5;28;43mself\u001b[39;49m\u001b[43m.\u001b[49m\u001b[43m_sleep\u001b[49m\u001b[43m,\u001b[49m\n\u001b[32m    928\u001b[39m \u001b[43m    \u001b[49m\u001b[38;5;28;43mself\u001b[39;49m\u001b[43m.\u001b[49m\u001b[43m_rand\u001b[49m\u001b[43m,\u001b[49m\n\u001b[32m    929\u001b[39m \u001b[43m    \u001b[49m\u001b[38;5;28;43mstr\u001b[39;49m\u001b[43m(\u001b[49m\u001b[38;5;28;43mself\u001b[39;49m\u001b[43m.\u001b[49m\u001b[43muri\u001b[49m\u001b[43m)\u001b[49m\u001b[43m,\u001b[49m\n\u001b[32m    930\u001b[39m \u001b[43m    \u001b[49m\u001b[43mmethod\u001b[49m\u001b[43m=\u001b[49m\u001b[38;5;28;43mstr\u001b[39;49m\u001b[43m(\u001b[49m\u001b[38;5;28;43mself\u001b[39;49m\u001b[43m.\u001b[49m\u001b[43mmethod\u001b[49m\u001b[43m)\u001b[49m\u001b[43m,\u001b[49m\n\u001b[32m    931\u001b[39m \u001b[43m    \u001b[49m\u001b[43mbody\u001b[49m\u001b[43m=\u001b[49m\u001b[38;5;28;43mself\u001b[39;49m\u001b[43m.\u001b[49m\u001b[43mbody\u001b[49m\u001b[43m,\u001b[49m\n\u001b[32m    932\u001b[39m \u001b[43m    \u001b[49m\u001b[43mheaders\u001b[49m\u001b[43m=\u001b[49m\u001b[38;5;28;43mself\u001b[39;49m\u001b[43m.\u001b[49m\u001b[43mheaders\u001b[49m\u001b[43m,\u001b[49m\n\u001b[32m    933\u001b[39m \u001b[43m\u001b[49m\u001b[43m)\u001b[49m\n\u001b[32m    935\u001b[39m \u001b[38;5;28;01mfor\u001b[39;00m callback \u001b[38;5;129;01min\u001b[39;00m \u001b[38;5;28mself\u001b[39m.response_callbacks:\n\u001b[32m    936\u001b[39m     callback(resp)\n",
      "\u001b[36mFile \u001b[39m\u001b[32m~/verdesat/code/verdesat/.venv/lib/python3.11/site-packages/googleapiclient/http.py:191\u001b[39m, in \u001b[36m_retry_request\u001b[39m\u001b[34m(http, num_retries, req_type, sleep, rand, uri, method, *args, **kwargs)\u001b[39m\n\u001b[32m    189\u001b[39m \u001b[38;5;28;01mtry\u001b[39;00m:\n\u001b[32m    190\u001b[39m     exception = \u001b[38;5;28;01mNone\u001b[39;00m\n\u001b[32m--> \u001b[39m\u001b[32m191\u001b[39m     resp, content = \u001b[43mhttp\u001b[49m\u001b[43m.\u001b[49m\u001b[43mrequest\u001b[49m\u001b[43m(\u001b[49m\u001b[43muri\u001b[49m\u001b[43m,\u001b[49m\u001b[43m \u001b[49m\u001b[43mmethod\u001b[49m\u001b[43m,\u001b[49m\u001b[43m \u001b[49m\u001b[43m*\u001b[49m\u001b[43margs\u001b[49m\u001b[43m,\u001b[49m\u001b[43m \u001b[49m\u001b[43m*\u001b[49m\u001b[43m*\u001b[49m\u001b[43mkwargs\u001b[49m\u001b[43m)\u001b[49m\n\u001b[32m    192\u001b[39m \u001b[38;5;66;03m# Retry on SSL errors and socket timeout errors.\u001b[39;00m\n\u001b[32m    193\u001b[39m \u001b[38;5;28;01mexcept\u001b[39;00m _ssl_SSLError \u001b[38;5;28;01mas\u001b[39;00m ssl_error:\n",
      "\u001b[36mFile \u001b[39m\u001b[32m~/verdesat/code/verdesat/.venv/lib/python3.11/site-packages/google_auth_httplib2.py:218\u001b[39m, in \u001b[36mAuthorizedHttp.request\u001b[39m\u001b[34m(self, uri, method, body, headers, redirections, connection_type, **kwargs)\u001b[39m\n\u001b[32m    215\u001b[39m     body_stream_position = body.tell()\n\u001b[32m    217\u001b[39m \u001b[38;5;66;03m# Make the request.\u001b[39;00m\n\u001b[32m--> \u001b[39m\u001b[32m218\u001b[39m response, content = \u001b[38;5;28;43mself\u001b[39;49m\u001b[43m.\u001b[49m\u001b[43mhttp\u001b[49m\u001b[43m.\u001b[49m\u001b[43mrequest\u001b[49m\u001b[43m(\u001b[49m\n\u001b[32m    219\u001b[39m \u001b[43m    \u001b[49m\u001b[43muri\u001b[49m\u001b[43m,\u001b[49m\n\u001b[32m    220\u001b[39m \u001b[43m    \u001b[49m\u001b[43mmethod\u001b[49m\u001b[43m,\u001b[49m\n\u001b[32m    221\u001b[39m \u001b[43m    \u001b[49m\u001b[43mbody\u001b[49m\u001b[43m=\u001b[49m\u001b[43mbody\u001b[49m\u001b[43m,\u001b[49m\n\u001b[32m    222\u001b[39m \u001b[43m    \u001b[49m\u001b[43mheaders\u001b[49m\u001b[43m=\u001b[49m\u001b[43mrequest_headers\u001b[49m\u001b[43m,\u001b[49m\n\u001b[32m    223\u001b[39m \u001b[43m    \u001b[49m\u001b[43mredirections\u001b[49m\u001b[43m=\u001b[49m\u001b[43mredirections\u001b[49m\u001b[43m,\u001b[49m\n\u001b[32m    224\u001b[39m \u001b[43m    \u001b[49m\u001b[43mconnection_type\u001b[49m\u001b[43m=\u001b[49m\u001b[43mconnection_type\u001b[49m\u001b[43m,\u001b[49m\n\u001b[32m    225\u001b[39m \u001b[43m    \u001b[49m\u001b[43m*\u001b[49m\u001b[43m*\u001b[49m\u001b[43mkwargs\u001b[49m\n\u001b[32m    226\u001b[39m \u001b[43m\u001b[49m\u001b[43m)\u001b[49m\n\u001b[32m    228\u001b[39m \u001b[38;5;66;03m# If the response indicated that the credentials needed to be\u001b[39;00m\n\u001b[32m    229\u001b[39m \u001b[38;5;66;03m# refreshed, then refresh the credentials and re-attempt the\u001b[39;00m\n\u001b[32m    230\u001b[39m \u001b[38;5;66;03m# request.\u001b[39;00m\n\u001b[32m    231\u001b[39m \u001b[38;5;66;03m# A stored token may expire between the time it is retrieved and\u001b[39;00m\n\u001b[32m    232\u001b[39m \u001b[38;5;66;03m# the time the request is made, so we may need to try twice.\u001b[39;00m\n\u001b[32m    233\u001b[39m \u001b[38;5;28;01mif\u001b[39;00m (\n\u001b[32m    234\u001b[39m     response.status \u001b[38;5;129;01min\u001b[39;00m \u001b[38;5;28mself\u001b[39m._refresh_status_codes\n\u001b[32m    235\u001b[39m     \u001b[38;5;129;01mand\u001b[39;00m _credential_refresh_attempt < \u001b[38;5;28mself\u001b[39m._max_refresh_attempts\n\u001b[32m    236\u001b[39m ):\n",
      "\u001b[36mFile \u001b[39m\u001b[32m~/verdesat/code/verdesat/.venv/lib/python3.11/site-packages/ee/_cloud_api_utils.py:70\u001b[39m, in \u001b[36m_Http.request\u001b[39m\u001b[34m(***failed resolving arguments***)\u001b[39m\n\u001b[32m     63\u001b[39m \u001b[38;5;28;01mdel\u001b[39;00m redirections  \u001b[38;5;66;03m# Ignored\u001b[39;00m\n\u001b[32m     65\u001b[39m \u001b[38;5;28;01mtry\u001b[39;00m:\n\u001b[32m     66\u001b[39m   \u001b[38;5;66;03m# googleapiclient is expecting an httplib2 object, and doesn't include\u001b[39;00m\n\u001b[32m     67\u001b[39m   \u001b[38;5;66;03m# requests error in the list of transient errors. Therefore, transient\u001b[39;00m\n\u001b[32m     68\u001b[39m   \u001b[38;5;66;03m# requests errors should be converted to kinds that googleapiclient\u001b[39;00m\n\u001b[32m     69\u001b[39m   \u001b[38;5;66;03m# consider transient.\u001b[39;00m\n\u001b[32m---> \u001b[39m\u001b[32m70\u001b[39m   response = \u001b[38;5;28;43mself\u001b[39;49m\u001b[43m.\u001b[49m\u001b[43m_session\u001b[49m\u001b[43m.\u001b[49m\u001b[43mrequest\u001b[49m\u001b[43m(\u001b[49m\n\u001b[32m     71\u001b[39m \u001b[43m      \u001b[49m\u001b[43mmethod\u001b[49m\u001b[43m,\u001b[49m\u001b[43m \u001b[49m\u001b[43muri\u001b[49m\u001b[43m,\u001b[49m\u001b[43m \u001b[49m\u001b[43mdata\u001b[49m\u001b[43m=\u001b[49m\u001b[43mbody\u001b[49m\u001b[43m,\u001b[49m\u001b[43m \u001b[49m\u001b[43mheaders\u001b[49m\u001b[43m=\u001b[49m\u001b[43mheaders\u001b[49m\u001b[43m,\u001b[49m\u001b[43m \u001b[49m\u001b[43mtimeout\u001b[49m\u001b[43m=\u001b[49m\u001b[38;5;28;43mself\u001b[39;49m\u001b[43m.\u001b[49m\u001b[43m_timeout\u001b[49m\n\u001b[32m     72\u001b[39m \u001b[43m  \u001b[49m\u001b[43m)\u001b[49m\n\u001b[32m     73\u001b[39m \u001b[38;5;28;01mexcept\u001b[39;00m requests.exceptions.ConnectionError \u001b[38;5;28;01mas\u001b[39;00m connection_error:\n\u001b[32m     74\u001b[39m   \u001b[38;5;28;01mraise\u001b[39;00m \u001b[38;5;167;01mConnectionError\u001b[39;00m(connection_error) \u001b[38;5;28;01mfrom\u001b[39;00m\u001b[38;5;250m \u001b[39m\u001b[34;01mconnection_error\u001b[39;00m\n",
      "\u001b[36mFile \u001b[39m\u001b[32m~/verdesat/code/verdesat/.venv/lib/python3.11/site-packages/requests/sessions.py:589\u001b[39m, in \u001b[36mSession.request\u001b[39m\u001b[34m(self, method, url, params, data, headers, cookies, files, auth, timeout, allow_redirects, proxies, hooks, stream, verify, cert, json)\u001b[39m\n\u001b[32m    584\u001b[39m send_kwargs = {\n\u001b[32m    585\u001b[39m     \u001b[33m\"\u001b[39m\u001b[33mtimeout\u001b[39m\u001b[33m\"\u001b[39m: timeout,\n\u001b[32m    586\u001b[39m     \u001b[33m\"\u001b[39m\u001b[33mallow_redirects\u001b[39m\u001b[33m\"\u001b[39m: allow_redirects,\n\u001b[32m    587\u001b[39m }\n\u001b[32m    588\u001b[39m send_kwargs.update(settings)\n\u001b[32m--> \u001b[39m\u001b[32m589\u001b[39m resp = \u001b[38;5;28;43mself\u001b[39;49m\u001b[43m.\u001b[49m\u001b[43msend\u001b[49m\u001b[43m(\u001b[49m\u001b[43mprep\u001b[49m\u001b[43m,\u001b[49m\u001b[43m \u001b[49m\u001b[43m*\u001b[49m\u001b[43m*\u001b[49m\u001b[43msend_kwargs\u001b[49m\u001b[43m)\u001b[49m\n\u001b[32m    591\u001b[39m \u001b[38;5;28;01mreturn\u001b[39;00m resp\n",
      "\u001b[36mFile \u001b[39m\u001b[32m~/verdesat/code/verdesat/.venv/lib/python3.11/site-packages/requests/sessions.py:703\u001b[39m, in \u001b[36mSession.send\u001b[39m\u001b[34m(self, request, **kwargs)\u001b[39m\n\u001b[32m    700\u001b[39m start = preferred_clock()\n\u001b[32m    702\u001b[39m \u001b[38;5;66;03m# Send the request\u001b[39;00m\n\u001b[32m--> \u001b[39m\u001b[32m703\u001b[39m r = \u001b[43madapter\u001b[49m\u001b[43m.\u001b[49m\u001b[43msend\u001b[49m\u001b[43m(\u001b[49m\u001b[43mrequest\u001b[49m\u001b[43m,\u001b[49m\u001b[43m \u001b[49m\u001b[43m*\u001b[49m\u001b[43m*\u001b[49m\u001b[43mkwargs\u001b[49m\u001b[43m)\u001b[49m\n\u001b[32m    705\u001b[39m \u001b[38;5;66;03m# Total elapsed time of the request (approximately)\u001b[39;00m\n\u001b[32m    706\u001b[39m elapsed = preferred_clock() - start\n",
      "\u001b[36mFile \u001b[39m\u001b[32m~/verdesat/code/verdesat/.venv/lib/python3.11/site-packages/requests/adapters.py:667\u001b[39m, in \u001b[36mHTTPAdapter.send\u001b[39m\u001b[34m(self, request, stream, timeout, verify, cert, proxies)\u001b[39m\n\u001b[32m    664\u001b[39m     timeout = TimeoutSauce(connect=timeout, read=timeout)\n\u001b[32m    666\u001b[39m \u001b[38;5;28;01mtry\u001b[39;00m:\n\u001b[32m--> \u001b[39m\u001b[32m667\u001b[39m     resp = \u001b[43mconn\u001b[49m\u001b[43m.\u001b[49m\u001b[43murlopen\u001b[49m\u001b[43m(\u001b[49m\n\u001b[32m    668\u001b[39m \u001b[43m        \u001b[49m\u001b[43mmethod\u001b[49m\u001b[43m=\u001b[49m\u001b[43mrequest\u001b[49m\u001b[43m.\u001b[49m\u001b[43mmethod\u001b[49m\u001b[43m,\u001b[49m\n\u001b[32m    669\u001b[39m \u001b[43m        \u001b[49m\u001b[43murl\u001b[49m\u001b[43m=\u001b[49m\u001b[43murl\u001b[49m\u001b[43m,\u001b[49m\n\u001b[32m    670\u001b[39m \u001b[43m        \u001b[49m\u001b[43mbody\u001b[49m\u001b[43m=\u001b[49m\u001b[43mrequest\u001b[49m\u001b[43m.\u001b[49m\u001b[43mbody\u001b[49m\u001b[43m,\u001b[49m\n\u001b[32m    671\u001b[39m \u001b[43m        \u001b[49m\u001b[43mheaders\u001b[49m\u001b[43m=\u001b[49m\u001b[43mrequest\u001b[49m\u001b[43m.\u001b[49m\u001b[43mheaders\u001b[49m\u001b[43m,\u001b[49m\n\u001b[32m    672\u001b[39m \u001b[43m        \u001b[49m\u001b[43mredirect\u001b[49m\u001b[43m=\u001b[49m\u001b[38;5;28;43;01mFalse\u001b[39;49;00m\u001b[43m,\u001b[49m\n\u001b[32m    673\u001b[39m \u001b[43m        \u001b[49m\u001b[43massert_same_host\u001b[49m\u001b[43m=\u001b[49m\u001b[38;5;28;43;01mFalse\u001b[39;49;00m\u001b[43m,\u001b[49m\n\u001b[32m    674\u001b[39m \u001b[43m        \u001b[49m\u001b[43mpreload_content\u001b[49m\u001b[43m=\u001b[49m\u001b[38;5;28;43;01mFalse\u001b[39;49;00m\u001b[43m,\u001b[49m\n\u001b[32m    675\u001b[39m \u001b[43m        \u001b[49m\u001b[43mdecode_content\u001b[49m\u001b[43m=\u001b[49m\u001b[38;5;28;43;01mFalse\u001b[39;49;00m\u001b[43m,\u001b[49m\n\u001b[32m    676\u001b[39m \u001b[43m        \u001b[49m\u001b[43mretries\u001b[49m\u001b[43m=\u001b[49m\u001b[38;5;28;43mself\u001b[39;49m\u001b[43m.\u001b[49m\u001b[43mmax_retries\u001b[49m\u001b[43m,\u001b[49m\n\u001b[32m    677\u001b[39m \u001b[43m        \u001b[49m\u001b[43mtimeout\u001b[49m\u001b[43m=\u001b[49m\u001b[43mtimeout\u001b[49m\u001b[43m,\u001b[49m\n\u001b[32m    678\u001b[39m \u001b[43m        \u001b[49m\u001b[43mchunked\u001b[49m\u001b[43m=\u001b[49m\u001b[43mchunked\u001b[49m\u001b[43m,\u001b[49m\n\u001b[32m    679\u001b[39m \u001b[43m    \u001b[49m\u001b[43m)\u001b[49m\n\u001b[32m    681\u001b[39m \u001b[38;5;28;01mexcept\u001b[39;00m (ProtocolError, \u001b[38;5;167;01mOSError\u001b[39;00m) \u001b[38;5;28;01mas\u001b[39;00m err:\n\u001b[32m    682\u001b[39m     \u001b[38;5;28;01mraise\u001b[39;00m \u001b[38;5;167;01mConnectionError\u001b[39;00m(err, request=request)\n",
      "\u001b[36mFile \u001b[39m\u001b[32m~/verdesat/code/verdesat/.venv/lib/python3.11/site-packages/urllib3/connectionpool.py:787\u001b[39m, in \u001b[36mHTTPConnectionPool.urlopen\u001b[39m\u001b[34m(self, method, url, body, headers, retries, redirect, assert_same_host, timeout, pool_timeout, release_conn, chunked, body_pos, preload_content, decode_content, **response_kw)\u001b[39m\n\u001b[32m    784\u001b[39m response_conn = conn \u001b[38;5;28;01mif\u001b[39;00m \u001b[38;5;129;01mnot\u001b[39;00m release_conn \u001b[38;5;28;01melse\u001b[39;00m \u001b[38;5;28;01mNone\u001b[39;00m\n\u001b[32m    786\u001b[39m \u001b[38;5;66;03m# Make the request on the HTTPConnection object\u001b[39;00m\n\u001b[32m--> \u001b[39m\u001b[32m787\u001b[39m response = \u001b[38;5;28;43mself\u001b[39;49m\u001b[43m.\u001b[49m\u001b[43m_make_request\u001b[49m\u001b[43m(\u001b[49m\n\u001b[32m    788\u001b[39m \u001b[43m    \u001b[49m\u001b[43mconn\u001b[49m\u001b[43m,\u001b[49m\n\u001b[32m    789\u001b[39m \u001b[43m    \u001b[49m\u001b[43mmethod\u001b[49m\u001b[43m,\u001b[49m\n\u001b[32m    790\u001b[39m \u001b[43m    \u001b[49m\u001b[43murl\u001b[49m\u001b[43m,\u001b[49m\n\u001b[32m    791\u001b[39m \u001b[43m    \u001b[49m\u001b[43mtimeout\u001b[49m\u001b[43m=\u001b[49m\u001b[43mtimeout_obj\u001b[49m\u001b[43m,\u001b[49m\n\u001b[32m    792\u001b[39m \u001b[43m    \u001b[49m\u001b[43mbody\u001b[49m\u001b[43m=\u001b[49m\u001b[43mbody\u001b[49m\u001b[43m,\u001b[49m\n\u001b[32m    793\u001b[39m \u001b[43m    \u001b[49m\u001b[43mheaders\u001b[49m\u001b[43m=\u001b[49m\u001b[43mheaders\u001b[49m\u001b[43m,\u001b[49m\n\u001b[32m    794\u001b[39m \u001b[43m    \u001b[49m\u001b[43mchunked\u001b[49m\u001b[43m=\u001b[49m\u001b[43mchunked\u001b[49m\u001b[43m,\u001b[49m\n\u001b[32m    795\u001b[39m \u001b[43m    \u001b[49m\u001b[43mretries\u001b[49m\u001b[43m=\u001b[49m\u001b[43mretries\u001b[49m\u001b[43m,\u001b[49m\n\u001b[32m    796\u001b[39m \u001b[43m    \u001b[49m\u001b[43mresponse_conn\u001b[49m\u001b[43m=\u001b[49m\u001b[43mresponse_conn\u001b[49m\u001b[43m,\u001b[49m\n\u001b[32m    797\u001b[39m \u001b[43m    \u001b[49m\u001b[43mpreload_content\u001b[49m\u001b[43m=\u001b[49m\u001b[43mpreload_content\u001b[49m\u001b[43m,\u001b[49m\n\u001b[32m    798\u001b[39m \u001b[43m    \u001b[49m\u001b[43mdecode_content\u001b[49m\u001b[43m=\u001b[49m\u001b[43mdecode_content\u001b[49m\u001b[43m,\u001b[49m\n\u001b[32m    799\u001b[39m \u001b[43m    \u001b[49m\u001b[43m*\u001b[49m\u001b[43m*\u001b[49m\u001b[43mresponse_kw\u001b[49m\u001b[43m,\u001b[49m\n\u001b[32m    800\u001b[39m \u001b[43m\u001b[49m\u001b[43m)\u001b[49m\n\u001b[32m    802\u001b[39m \u001b[38;5;66;03m# Everything went great!\u001b[39;00m\n\u001b[32m    803\u001b[39m clean_exit = \u001b[38;5;28;01mTrue\u001b[39;00m\n",
      "\u001b[36mFile \u001b[39m\u001b[32m~/verdesat/code/verdesat/.venv/lib/python3.11/site-packages/urllib3/connectionpool.py:534\u001b[39m, in \u001b[36mHTTPConnectionPool._make_request\u001b[39m\u001b[34m(self, conn, method, url, body, headers, retries, timeout, chunked, response_conn, preload_content, decode_content, enforce_content_length)\u001b[39m\n\u001b[32m    532\u001b[39m \u001b[38;5;66;03m# Receive the response from the server\u001b[39;00m\n\u001b[32m    533\u001b[39m \u001b[38;5;28;01mtry\u001b[39;00m:\n\u001b[32m--> \u001b[39m\u001b[32m534\u001b[39m     response = \u001b[43mconn\u001b[49m\u001b[43m.\u001b[49m\u001b[43mgetresponse\u001b[49m\u001b[43m(\u001b[49m\u001b[43m)\u001b[49m\n\u001b[32m    535\u001b[39m \u001b[38;5;28;01mexcept\u001b[39;00m (BaseSSLError, \u001b[38;5;167;01mOSError\u001b[39;00m) \u001b[38;5;28;01mas\u001b[39;00m e:\n\u001b[32m    536\u001b[39m     \u001b[38;5;28mself\u001b[39m._raise_timeout(err=e, url=url, timeout_value=read_timeout)\n",
      "\u001b[36mFile \u001b[39m\u001b[32m~/verdesat/code/verdesat/.venv/lib/python3.11/site-packages/urllib3/connection.py:565\u001b[39m, in \u001b[36mHTTPConnection.getresponse\u001b[39m\u001b[34m(self)\u001b[39m\n\u001b[32m    562\u001b[39m _shutdown = \u001b[38;5;28mgetattr\u001b[39m(\u001b[38;5;28mself\u001b[39m.sock, \u001b[33m\"\u001b[39m\u001b[33mshutdown\u001b[39m\u001b[33m\"\u001b[39m, \u001b[38;5;28;01mNone\u001b[39;00m)\n\u001b[32m    564\u001b[39m \u001b[38;5;66;03m# Get the response from http.client.HTTPConnection\u001b[39;00m\n\u001b[32m--> \u001b[39m\u001b[32m565\u001b[39m httplib_response = \u001b[38;5;28;43msuper\u001b[39;49m\u001b[43m(\u001b[49m\u001b[43m)\u001b[49m\u001b[43m.\u001b[49m\u001b[43mgetresponse\u001b[49m\u001b[43m(\u001b[49m\u001b[43m)\u001b[49m\n\u001b[32m    567\u001b[39m \u001b[38;5;28;01mtry\u001b[39;00m:\n\u001b[32m    568\u001b[39m     assert_header_parsing(httplib_response.msg)\n",
      "\u001b[36mFile \u001b[39m\u001b[32m/usr/local/Cellar/python@3.11/3.11.10/Frameworks/Python.framework/Versions/3.11/lib/python3.11/http/client.py:1395\u001b[39m, in \u001b[36mHTTPConnection.getresponse\u001b[39m\u001b[34m(self)\u001b[39m\n\u001b[32m   1393\u001b[39m \u001b[38;5;28;01mtry\u001b[39;00m:\n\u001b[32m   1394\u001b[39m     \u001b[38;5;28;01mtry\u001b[39;00m:\n\u001b[32m-> \u001b[39m\u001b[32m1395\u001b[39m         \u001b[43mresponse\u001b[49m\u001b[43m.\u001b[49m\u001b[43mbegin\u001b[49m\u001b[43m(\u001b[49m\u001b[43m)\u001b[49m\n\u001b[32m   1396\u001b[39m     \u001b[38;5;28;01mexcept\u001b[39;00m \u001b[38;5;167;01mConnectionError\u001b[39;00m:\n\u001b[32m   1397\u001b[39m         \u001b[38;5;28mself\u001b[39m.close()\n",
      "\u001b[36mFile \u001b[39m\u001b[32m/usr/local/Cellar/python@3.11/3.11.10/Frameworks/Python.framework/Versions/3.11/lib/python3.11/http/client.py:325\u001b[39m, in \u001b[36mHTTPResponse.begin\u001b[39m\u001b[34m(self)\u001b[39m\n\u001b[32m    323\u001b[39m \u001b[38;5;66;03m# read until we get a non-100 response\u001b[39;00m\n\u001b[32m    324\u001b[39m \u001b[38;5;28;01mwhile\u001b[39;00m \u001b[38;5;28;01mTrue\u001b[39;00m:\n\u001b[32m--> \u001b[39m\u001b[32m325\u001b[39m     version, status, reason = \u001b[38;5;28;43mself\u001b[39;49m\u001b[43m.\u001b[49m\u001b[43m_read_status\u001b[49m\u001b[43m(\u001b[49m\u001b[43m)\u001b[49m\n\u001b[32m    326\u001b[39m     \u001b[38;5;28;01mif\u001b[39;00m status != CONTINUE:\n\u001b[32m    327\u001b[39m         \u001b[38;5;28;01mbreak\u001b[39;00m\n",
      "\u001b[36mFile \u001b[39m\u001b[32m/usr/local/Cellar/python@3.11/3.11.10/Frameworks/Python.framework/Versions/3.11/lib/python3.11/http/client.py:286\u001b[39m, in \u001b[36mHTTPResponse._read_status\u001b[39m\u001b[34m(self)\u001b[39m\n\u001b[32m    285\u001b[39m \u001b[38;5;28;01mdef\u001b[39;00m\u001b[38;5;250m \u001b[39m\u001b[34m_read_status\u001b[39m(\u001b[38;5;28mself\u001b[39m):\n\u001b[32m--> \u001b[39m\u001b[32m286\u001b[39m     line = \u001b[38;5;28mstr\u001b[39m(\u001b[38;5;28mself\u001b[39m.fp.readline(_MAXLINE + \u001b[32m1\u001b[39m), \u001b[33m\"\u001b[39m\u001b[33miso-8859-1\u001b[39m\u001b[33m\"\u001b[39m)\n\u001b[32m    287\u001b[39m     \u001b[38;5;28;01mif\u001b[39;00m \u001b[38;5;28mlen\u001b[39m(line) > _MAXLINE:\n\u001b[32m    288\u001b[39m         \u001b[38;5;28;01mraise\u001b[39;00m LineTooLong(\u001b[33m\"\u001b[39m\u001b[33mstatus line\u001b[39m\u001b[33m\"\u001b[39m)\n",
      "\u001b[36mFile \u001b[39m\u001b[32m/usr/local/Cellar/python@3.11/3.11.10/Frameworks/Python.framework/Versions/3.11/lib/python3.11/socket.py:718\u001b[39m, in \u001b[36mSocketIO.readinto\u001b[39m\u001b[34m(self, b)\u001b[39m\n\u001b[32m    716\u001b[39m \u001b[38;5;28;01mwhile\u001b[39;00m \u001b[38;5;28;01mTrue\u001b[39;00m:\n\u001b[32m    717\u001b[39m     \u001b[38;5;28;01mtry\u001b[39;00m:\n\u001b[32m--> \u001b[39m\u001b[32m718\u001b[39m         \u001b[38;5;28;01mreturn\u001b[39;00m \u001b[38;5;28;43mself\u001b[39;49m\u001b[43m.\u001b[49m\u001b[43m_sock\u001b[49m\u001b[43m.\u001b[49m\u001b[43mrecv_into\u001b[49m\u001b[43m(\u001b[49m\u001b[43mb\u001b[49m\u001b[43m)\u001b[49m\n\u001b[32m    719\u001b[39m     \u001b[38;5;28;01mexcept\u001b[39;00m timeout:\n\u001b[32m    720\u001b[39m         \u001b[38;5;28mself\u001b[39m._timeout_occurred = \u001b[38;5;28;01mTrue\u001b[39;00m\n",
      "\u001b[36mFile \u001b[39m\u001b[32m/usr/local/Cellar/python@3.11/3.11.10/Frameworks/Python.framework/Versions/3.11/lib/python3.11/ssl.py:1314\u001b[39m, in \u001b[36mSSLSocket.recv_into\u001b[39m\u001b[34m(self, buffer, nbytes, flags)\u001b[39m\n\u001b[32m   1310\u001b[39m     \u001b[38;5;28;01mif\u001b[39;00m flags != \u001b[32m0\u001b[39m:\n\u001b[32m   1311\u001b[39m         \u001b[38;5;28;01mraise\u001b[39;00m \u001b[38;5;167;01mValueError\u001b[39;00m(\n\u001b[32m   1312\u001b[39m           \u001b[33m\"\u001b[39m\u001b[33mnon-zero flags not allowed in calls to recv_into() on \u001b[39m\u001b[38;5;132;01m%s\u001b[39;00m\u001b[33m\"\u001b[39m %\n\u001b[32m   1313\u001b[39m           \u001b[38;5;28mself\u001b[39m.\u001b[34m__class__\u001b[39m)\n\u001b[32m-> \u001b[39m\u001b[32m1314\u001b[39m     \u001b[38;5;28;01mreturn\u001b[39;00m \u001b[38;5;28;43mself\u001b[39;49m\u001b[43m.\u001b[49m\u001b[43mread\u001b[49m\u001b[43m(\u001b[49m\u001b[43mnbytes\u001b[49m\u001b[43m,\u001b[49m\u001b[43m \u001b[49m\u001b[43mbuffer\u001b[49m\u001b[43m)\u001b[49m\n\u001b[32m   1315\u001b[39m \u001b[38;5;28;01melse\u001b[39;00m:\n\u001b[32m   1316\u001b[39m     \u001b[38;5;28;01mreturn\u001b[39;00m \u001b[38;5;28msuper\u001b[39m().recv_into(buffer, nbytes, flags)\n",
      "\u001b[36mFile \u001b[39m\u001b[32m/usr/local/Cellar/python@3.11/3.11.10/Frameworks/Python.framework/Versions/3.11/lib/python3.11/ssl.py:1166\u001b[39m, in \u001b[36mSSLSocket.read\u001b[39m\u001b[34m(self, len, buffer)\u001b[39m\n\u001b[32m   1164\u001b[39m \u001b[38;5;28;01mtry\u001b[39;00m:\n\u001b[32m   1165\u001b[39m     \u001b[38;5;28;01mif\u001b[39;00m buffer \u001b[38;5;129;01mis\u001b[39;00m \u001b[38;5;129;01mnot\u001b[39;00m \u001b[38;5;28;01mNone\u001b[39;00m:\n\u001b[32m-> \u001b[39m\u001b[32m1166\u001b[39m         \u001b[38;5;28;01mreturn\u001b[39;00m \u001b[38;5;28;43mself\u001b[39;49m\u001b[43m.\u001b[49m\u001b[43m_sslobj\u001b[49m\u001b[43m.\u001b[49m\u001b[43mread\u001b[49m\u001b[43m(\u001b[49m\u001b[38;5;28;43mlen\u001b[39;49m\u001b[43m,\u001b[49m\u001b[43m \u001b[49m\u001b[43mbuffer\u001b[49m\u001b[43m)\u001b[49m\n\u001b[32m   1167\u001b[39m     \u001b[38;5;28;01melse\u001b[39;00m:\n\u001b[32m   1168\u001b[39m         \u001b[38;5;28;01mreturn\u001b[39;00m \u001b[38;5;28mself\u001b[39m._sslobj.read(\u001b[38;5;28mlen\u001b[39m)\n",
      "\u001b[31mKeyboardInterrupt\u001b[39m: "
     ]
    }
   ],
   "source": [
    "import ee\n",
    "from ee import Reducer\n",
    "from verdesat.analytics.engine import AnalyticsEngine\n",
    "sensor = SensorSpec.from_collection_id('NASA/HLS/HLSL30/v002')\n",
    "base_ic = ee.ImageCollection('NASA/HLS/HLSL30/v002').filterDate('2022-01-01', '2022-12-31')\n",
    "ndvi_coll = base_ic.map(lambda img: sensor.compute_index(img, 'ndvi'))\n",
    "composites = AnalyticsEngine.build_composites(\n",
    "    base_ic=ndvi_coll,\n",
    "    period='ME',\n",
    "    reducer=Reducer.mean(),\n",
    "    start='2022-01-01',\n",
    "    end='2022-12-31',\n",
    "    bands=['NDVI'],\n",
    "    scale=30,\n",
    ")\n",
    "composites.size().getInfo()  # number of composites"
   ]
  },
  {
   "cell_type": "code",
   "execution_count": 32,
   "id": "39f53d0b",
   "metadata": {},
   "outputs": [
    {
     "data": {
      "text/html": [
       "<pre style=\"white-space:pre;overflow-x:auto;line-height:normal;font-family:Menlo,'DejaVu Sans Mono',consolas,'Courier New',monospace\"></pre>\n"
      ],
      "text/plain": []
     },
     "metadata": {},
     "output_type": "display_data"
    },
    {
     "data": {
      "application/vnd.microsoft.datawrangler.viewer.v0+json": {
       "columns": [
        {
         "name": "index",
         "rawType": "int64",
         "type": "integer"
        },
        {
         "name": "Site ID",
         "rawType": "int64",
         "type": "integer"
        },
        {
         "name": "Start Date",
         "rawType": "object",
         "type": "string"
        },
        {
         "name": "End Date",
         "rawType": "object",
         "type": "string"
        },
        {
         "name": "Num Periods",
         "rawType": "int64",
         "type": "integer"
        },
        {
         "name": "% Gapfilled",
         "rawType": "float64",
         "type": "float"
        },
        {
         "name": "Mean NDVI",
         "rawType": "float64",
         "type": "float"
        },
        {
         "name": "Median NDVI",
         "rawType": "float64",
         "type": "float"
        },
        {
         "name": "Min NDVI",
         "rawType": "float64",
         "type": "float"
        },
        {
         "name": "Max NDVI",
         "rawType": "float64",
         "type": "float"
        },
        {
         "name": "Std NDVI",
         "rawType": "float64",
         "type": "float"
        },
        {
         "name": "Sen's Slope (NDVI/yr)",
         "rawType": "float64",
         "type": "float"
        },
        {
         "name": "Trend ΔNDVI",
         "rawType": "float64",
         "type": "float"
        },
        {
         "name": "Mann–Kendall p-value",
         "rawType": "float64",
         "type": "float"
        },
        {
         "name": "Seasonal Amplitude",
         "rawType": "float64",
         "type": "float"
        },
        {
         "name": "Peak Month",
         "rawType": "object",
         "type": "string"
        },
        {
         "name": "Residual RMS",
         "rawType": "float64",
         "type": "float"
        }
       ],
       "ref": "e8677e98-7fbb-4ea7-9a9b-139fe6d13d59",
       "rows": [
        [
         "0",
         "1",
         "2019-01",
         "2024-12",
         "2178",
         null,
         "0.7614044151960866",
         "0.7651689088224932",
         "0.5414516446780422",
         "0.8934061697952915",
         "0.05465286244175622",
         "-0.002309834792551078",
         "-0.005403466414461877",
         "0.05569962596664964",
         "0.10824574343090859",
         "2019-08",
         "0.03390983679412675"
        ],
        [
         "1",
         "2",
         "2019-01",
         "2024-12",
         "2178",
         null,
         "0.6258426709334182",
         "0.6286581539162539",
         "0.4003088308673488",
         "0.8475352736928087",
         "0.10759181446908521",
         "-0.01153178921177327",
         "-0.017681197378742075",
         "1.6170231199277745e-06",
         "0.2384891343717837",
         "2019-09",
         "0.024384976372292057"
        ],
        [
         "2",
         "3",
         "2019-01",
         "2024-12",
         "2178",
         null,
         "0.6852852281444372",
         "0.6834045924863561",
         "0.5406845942354672",
         "0.8068310585765304",
         "0.06484782883653345",
         "-0.0002787226518933602",
         "0.005141590835203935",
         "0.8582659408455309",
         "0.14577014933741028",
         "2019-07",
         "0.017900563142635304"
        ]
       ],
       "shape": {
        "columns": 16,
        "rows": 3
       }
      },
      "text/html": [
       "<div>\n",
       "<style scoped>\n",
       "    .dataframe tbody tr th:only-of-type {\n",
       "        vertical-align: middle;\n",
       "    }\n",
       "\n",
       "    .dataframe tbody tr th {\n",
       "        vertical-align: top;\n",
       "    }\n",
       "\n",
       "    .dataframe thead th {\n",
       "        text-align: right;\n",
       "    }\n",
       "</style>\n",
       "<table border=\"1\" class=\"dataframe\">\n",
       "  <thead>\n",
       "    <tr style=\"text-align: right;\">\n",
       "      <th></th>\n",
       "      <th>Site ID</th>\n",
       "      <th>Start Date</th>\n",
       "      <th>End Date</th>\n",
       "      <th>Num Periods</th>\n",
       "      <th>% Gapfilled</th>\n",
       "      <th>Mean NDVI</th>\n",
       "      <th>Median NDVI</th>\n",
       "      <th>Min NDVI</th>\n",
       "      <th>Max NDVI</th>\n",
       "      <th>Std NDVI</th>\n",
       "      <th>Sen's Slope (NDVI/yr)</th>\n",
       "      <th>Trend ΔNDVI</th>\n",
       "      <th>Mann–Kendall p-value</th>\n",
       "      <th>Seasonal Amplitude</th>\n",
       "      <th>Peak Month</th>\n",
       "      <th>Residual RMS</th>\n",
       "    </tr>\n",
       "  </thead>\n",
       "  <tbody>\n",
       "    <tr>\n",
       "      <th>0</th>\n",
       "      <td>1</td>\n",
       "      <td>2019-01</td>\n",
       "      <td>2024-12</td>\n",
       "      <td>2178</td>\n",
       "      <td>NaN</td>\n",
       "      <td>0.761404</td>\n",
       "      <td>0.765169</td>\n",
       "      <td>0.541452</td>\n",
       "      <td>0.893406</td>\n",
       "      <td>0.054653</td>\n",
       "      <td>-0.002310</td>\n",
       "      <td>-0.005403</td>\n",
       "      <td>0.055700</td>\n",
       "      <td>0.108246</td>\n",
       "      <td>2019-08</td>\n",
       "      <td>0.033910</td>\n",
       "    </tr>\n",
       "    <tr>\n",
       "      <th>1</th>\n",
       "      <td>2</td>\n",
       "      <td>2019-01</td>\n",
       "      <td>2024-12</td>\n",
       "      <td>2178</td>\n",
       "      <td>NaN</td>\n",
       "      <td>0.625843</td>\n",
       "      <td>0.628658</td>\n",
       "      <td>0.400309</td>\n",
       "      <td>0.847535</td>\n",
       "      <td>0.107592</td>\n",
       "      <td>-0.011532</td>\n",
       "      <td>-0.017681</td>\n",
       "      <td>0.000002</td>\n",
       "      <td>0.238489</td>\n",
       "      <td>2019-09</td>\n",
       "      <td>0.024385</td>\n",
       "    </tr>\n",
       "    <tr>\n",
       "      <th>2</th>\n",
       "      <td>3</td>\n",
       "      <td>2019-01</td>\n",
       "      <td>2024-12</td>\n",
       "      <td>2178</td>\n",
       "      <td>NaN</td>\n",
       "      <td>0.685285</td>\n",
       "      <td>0.683405</td>\n",
       "      <td>0.540685</td>\n",
       "      <td>0.806831</td>\n",
       "      <td>0.064848</td>\n",
       "      <td>-0.000279</td>\n",
       "      <td>0.005142</td>\n",
       "      <td>0.858266</td>\n",
       "      <td>0.145770</td>\n",
       "      <td>2019-07</td>\n",
       "      <td>0.017901</td>\n",
       "    </tr>\n",
       "  </tbody>\n",
       "</table>\n",
       "</div>"
      ],
      "text/plain": [
       "\n",
       "   Site ID Start Date End Date  Num Periods  % Gapfilled  Mean NDVI  \\\n",
       "\u001b[1;36m0\u001b[0m        \u001b[1;36m1\u001b[0m    \u001b[1;36m2019\u001b[0m-\u001b[1;36m01\u001b[0m  \u001b[1;36m2024\u001b[0m-\u001b[1;36m12\u001b[0m         \u001b[1;36m2178\u001b[0m          NaN   \u001b[1;36m0.761404\u001b[0m   \n",
       "\u001b[1;36m1\u001b[0m        \u001b[1;36m2\u001b[0m    \u001b[1;36m2019\u001b[0m-\u001b[1;36m01\u001b[0m  \u001b[1;36m2024\u001b[0m-\u001b[1;36m12\u001b[0m         \u001b[1;36m2178\u001b[0m          NaN   \u001b[1;36m0.625843\u001b[0m   \n",
       "\u001b[1;36m2\u001b[0m        \u001b[1;36m3\u001b[0m    \u001b[1;36m2019\u001b[0m-\u001b[1;36m01\u001b[0m  \u001b[1;36m2024\u001b[0m-\u001b[1;36m12\u001b[0m         \u001b[1;36m2178\u001b[0m          NaN   \u001b[1;36m0.685285\u001b[0m   \n",
       "\n",
       "   Median NDVI  Min NDVI  Max NDVI  Std NDVI  Sen's Slope \u001b[1m(\u001b[0mNDVI/yr\u001b[1m)\u001b[0m  \\\n",
       "\u001b[1;36m0\u001b[0m     \u001b[1;36m0.765169\u001b[0m  \u001b[1;36m0.541452\u001b[0m  \u001b[1;36m0.893406\u001b[0m  \u001b[1;36m0.054653\u001b[0m              \u001b[1;36m-0.002310\u001b[0m   \n",
       "\u001b[1;36m1\u001b[0m     \u001b[1;36m0.628658\u001b[0m  \u001b[1;36m0.400309\u001b[0m  \u001b[1;36m0.847535\u001b[0m  \u001b[1;36m0.107592\u001b[0m              \u001b[1;36m-0.011532\u001b[0m   \n",
       "\u001b[1;36m2\u001b[0m     \u001b[1;36m0.683405\u001b[0m  \u001b[1;36m0.540685\u001b[0m  \u001b[1;36m0.806831\u001b[0m  \u001b[1;36m0.064848\u001b[0m              \u001b[1;36m-0.000279\u001b[0m   \n",
       "\n",
       "   Trend ΔNDVI  Mann–Kendall p-value  Seasonal Amplitude Peak Month  \\\n",
       "\u001b[1;36m0\u001b[0m    \u001b[1;36m-0.005403\u001b[0m              \u001b[1;36m0.055700\u001b[0m            \u001b[1;36m0.108246\u001b[0m    \u001b[1;36m2019\u001b[0m-\u001b[1;36m08\u001b[0m   \n",
       "\u001b[1;36m1\u001b[0m    \u001b[1;36m-0.017681\u001b[0m              \u001b[1;36m0.000002\u001b[0m            \u001b[1;36m0.238489\u001b[0m    \u001b[1;36m2019\u001b[0m-\u001b[1;36m09\u001b[0m   \n",
       "\u001b[1;36m2\u001b[0m     \u001b[1;36m0.005142\u001b[0m              \u001b[1;36m0.858266\u001b[0m            \u001b[1;36m0.145770\u001b[0m    \u001b[1;36m2019\u001b[0m-\u001b[1;36m07\u001b[0m   \n",
       "\n",
       "   Residual RMS  \n",
       "\u001b[1;36m0\u001b[0m      \u001b[1;36m0.033910\u001b[0m  \n",
       "\u001b[1;36m1\u001b[0m      \u001b[1;36m0.024385\u001b[0m  \n",
       "\u001b[1;36m2\u001b[0m      \u001b[1;36m0.017901\u001b[0m  "
      ]
     },
     "execution_count": 32,
     "metadata": {},
     "output_type": "execute_result"
    }
   ],
   "source": [
    "from verdesat.analytics.timeseries import TimeSeries\n",
    "from verdesat.analytics.stats import compute_summary_stats\n",
    "from verdesat.visualization.visualizer import Visualizer\n",
    "import pandas as pd, os\n",
    "\n",
    "ts = TimeSeries.from_dataframe(ts_df, index='ndvi')\n",
    "ts_monthly = ts.aggregate('ME').fill_gaps()\n",
    "decomposed = ts_monthly.decompose(period=12)\n",
    "\n",
    "os.makedirs('examples/decomp', exist_ok=True)\n",
    "for pid, res in decomposed.items():\n",
    "    pd.DataFrame({\n",
    "        'date': res.observed.index,\n",
    "        'observed': res.observed.values,\n",
    "        'trend': res.trend.values,\n",
    "        'seasonal': res.seasonal.values,\n",
    "        'resid': res.resid.values,\n",
    "    }).to_csv(f'examples/decomp/{pid}_decomposition.csv', index=False)\n",
    "\n",
    "trend = AnalyticsEngine.compute_trend(ts_monthly)\n",
    "stats = compute_summary_stats('examples/reforestation_ts.csv', decomp_dir='examples/decomp', period=12)\n",
    "stats.to_dataframe()"
   ]
  },
  {
   "cell_type": "code",
   "execution_count": 33,
   "id": "a276bcd6",
   "metadata": {},
   "outputs": [
    {
     "data": {
      "text/html": [
       "<pre style=\"white-space:pre;overflow-x:auto;line-height:normal;font-family:Menlo,'DejaVu Sans Mono',consolas,'Courier New',monospace\"></pre>\n"
      ],
      "text/plain": []
     },
     "metadata": {},
     "output_type": "display_data"
    },
    {
     "data": {
      "application/vnd.microsoft.datawrangler.viewer.v0+json": {
       "columns": [
        {
         "name": "index",
         "rawType": "int64",
         "type": "integer"
        },
        {
         "name": "id",
         "rawType": "int64",
         "type": "integer"
        },
        {
         "name": "date",
         "rawType": "datetime64[ns]",
         "type": "datetime"
        },
        {
         "name": "trend",
         "rawType": "float64",
         "type": "float"
        }
       ],
       "ref": "2d0eb620-c1d4-4a58-98d1-995399d68b27",
       "rows": [
        [
         "0",
         "1",
         "2019-01-31 00:00:00",
         "0.7567368574601563"
        ],
        [
         "1",
         "1",
         "2019-02-28 00:00:00",
         "0.756878133011119"
        ],
        [
         "2",
         "1",
         "2019-03-31 00:00:00",
         "0.7570345452282559"
        ],
        [
         "3",
         "1",
         "2019-04-30 00:00:00",
         "0.7571859118900015"
        ],
        [
         "4",
         "1",
         "2019-05-31 00:00:00",
         "0.7573423241071389"
        ],
        [
         "5",
         "1",
         "2019-06-30 00:00:00",
         "0.7574936907688845"
        ],
        [
         "6",
         "1",
         "2019-07-31 00:00:00",
         "0.7576501029860219"
        ],
        [
         "7",
         "1",
         "2019-08-31 00:00:00",
         "0.7578065152031592"
        ],
        [
         "8",
         "1",
         "2019-09-30 00:00:00",
         "0.7579578818649049"
        ],
        [
         "9",
         "1",
         "2019-10-31 00:00:00",
         "0.7581142940820422"
        ],
        [
         "10",
         "1",
         "2019-11-30 00:00:00",
         "0.7582656607437879"
        ],
        [
         "11",
         "1",
         "2019-12-31 00:00:00",
         "0.7584220729609248"
        ],
        [
         "12",
         "1",
         "2020-01-31 00:00:00",
         "0.7585784851780621"
        ],
        [
         "13",
         "1",
         "2020-02-29 00:00:00",
         "0.7587248062844165"
        ],
        [
         "14",
         "1",
         "2020-03-31 00:00:00",
         "0.7588812185015534"
        ],
        [
         "15",
         "1",
         "2020-04-30 00:00:00",
         "0.7590325851632995"
        ],
        [
         "16",
         "1",
         "2020-05-31 00:00:00",
         "0.7591889973804364"
        ],
        [
         "17",
         "1",
         "2020-06-30 00:00:00",
         "0.7593403640421821"
        ],
        [
         "18",
         "1",
         "2020-07-31 00:00:00",
         "0.7594967762593194"
        ],
        [
         "19",
         "1",
         "2020-08-31 00:00:00",
         "0.7596531884764568"
        ],
        [
         "20",
         "1",
         "2020-09-30 00:00:00",
         "0.7598045551382024"
        ],
        [
         "21",
         "1",
         "2020-10-31 00:00:00",
         "0.7599609673553398"
        ],
        [
         "22",
         "1",
         "2020-11-30 00:00:00",
         "0.7601123340170854"
        ],
        [
         "23",
         "1",
         "2020-12-31 00:00:00",
         "0.7602687462342228"
        ],
        [
         "24",
         "1",
         "2021-01-31 00:00:00",
         "0.7604251584513597"
        ],
        [
         "25",
         "1",
         "2021-02-28 00:00:00",
         "0.7605664340023224"
        ],
        [
         "26",
         "1",
         "2021-03-31 00:00:00",
         "0.7607228462194597"
        ],
        [
         "27",
         "1",
         "2021-04-30 00:00:00",
         "0.7608742128812054"
        ],
        [
         "28",
         "1",
         "2021-05-31 00:00:00",
         "0.7610306250983427"
        ],
        [
         "29",
         "1",
         "2021-06-30 00:00:00",
         "0.7611819917600884"
        ],
        [
         "30",
         "1",
         "2021-07-31 00:00:00",
         "0.7613384039772257"
        ],
        [
         "31",
         "1",
         "2021-08-31 00:00:00",
         "0.7614948161943627"
        ],
        [
         "32",
         "1",
         "2021-09-30 00:00:00",
         "0.7616461828561083"
        ],
        [
         "33",
         "1",
         "2021-10-31 00:00:00",
         "0.7618025950732457"
        ],
        [
         "34",
         "1",
         "2021-11-30 00:00:00",
         "0.7619539617349913"
        ],
        [
         "35",
         "1",
         "2021-12-31 00:00:00",
         "0.7621103739521287"
        ],
        [
         "36",
         "1",
         "2022-01-31 00:00:00",
         "0.762266786169266"
        ],
        [
         "37",
         "1",
         "2022-02-28 00:00:00",
         "0.7624080617202287"
        ],
        [
         "38",
         "1",
         "2022-03-31 00:00:00",
         "0.7625644739373656"
        ],
        [
         "39",
         "1",
         "2022-04-30 00:00:00",
         "0.7627158405991117"
        ],
        [
         "40",
         "1",
         "2022-05-31 00:00:00",
         "0.7628722528162486"
        ],
        [
         "41",
         "1",
         "2022-06-30 00:00:00",
         "0.7630236194779942"
        ],
        [
         "42",
         "1",
         "2022-07-31 00:00:00",
         "0.7631800316951316"
        ],
        [
         "43",
         "1",
         "2022-08-31 00:00:00",
         "0.763336443912269"
        ],
        [
         "44",
         "1",
         "2022-09-30 00:00:00",
         "0.7634878105740146"
        ],
        [
         "45",
         "1",
         "2022-10-31 00:00:00",
         "0.763644222791152"
        ],
        [
         "46",
         "1",
         "2022-11-30 00:00:00",
         "0.7637955894528976"
        ],
        [
         "47",
         "1",
         "2022-12-31 00:00:00",
         "0.763952001670035"
        ],
        [
         "48",
         "1",
         "2023-01-31 00:00:00",
         "0.7641084138871719"
        ],
        [
         "49",
         "1",
         "2023-02-28 00:00:00",
         "0.7642496894381345"
        ]
       ],
       "shape": {
        "columns": 3,
        "rows": 216
       }
      },
      "text/html": [
       "<div>\n",
       "<style scoped>\n",
       "    .dataframe tbody tr th:only-of-type {\n",
       "        vertical-align: middle;\n",
       "    }\n",
       "\n",
       "    .dataframe tbody tr th {\n",
       "        vertical-align: top;\n",
       "    }\n",
       "\n",
       "    .dataframe thead th {\n",
       "        text-align: right;\n",
       "    }\n",
       "</style>\n",
       "<table border=\"1\" class=\"dataframe\">\n",
       "  <thead>\n",
       "    <tr style=\"text-align: right;\">\n",
       "      <th></th>\n",
       "      <th>id</th>\n",
       "      <th>date</th>\n",
       "      <th>trend</th>\n",
       "    </tr>\n",
       "  </thead>\n",
       "  <tbody>\n",
       "    <tr>\n",
       "      <th>0</th>\n",
       "      <td>1</td>\n",
       "      <td>2019-01-31</td>\n",
       "      <td>0.756737</td>\n",
       "    </tr>\n",
       "    <tr>\n",
       "      <th>1</th>\n",
       "      <td>1</td>\n",
       "      <td>2019-02-28</td>\n",
       "      <td>0.756878</td>\n",
       "    </tr>\n",
       "    <tr>\n",
       "      <th>2</th>\n",
       "      <td>1</td>\n",
       "      <td>2019-03-31</td>\n",
       "      <td>0.757035</td>\n",
       "    </tr>\n",
       "    <tr>\n",
       "      <th>3</th>\n",
       "      <td>1</td>\n",
       "      <td>2019-04-30</td>\n",
       "      <td>0.757186</td>\n",
       "    </tr>\n",
       "    <tr>\n",
       "      <th>4</th>\n",
       "      <td>1</td>\n",
       "      <td>2019-05-31</td>\n",
       "      <td>0.757342</td>\n",
       "    </tr>\n",
       "    <tr>\n",
       "      <th>...</th>\n",
       "      <td>...</td>\n",
       "      <td>...</td>\n",
       "      <td>...</td>\n",
       "    </tr>\n",
       "    <tr>\n",
       "      <th>211</th>\n",
       "      <td>3</td>\n",
       "      <td>2024-08-31</td>\n",
       "      <td>0.713189</td>\n",
       "    </tr>\n",
       "    <tr>\n",
       "      <th>212</th>\n",
       "      <td>3</td>\n",
       "      <td>2024-09-30</td>\n",
       "      <td>0.713713</td>\n",
       "    </tr>\n",
       "    <tr>\n",
       "      <th>213</th>\n",
       "      <td>3</td>\n",
       "      <td>2024-10-31</td>\n",
       "      <td>0.714255</td>\n",
       "    </tr>\n",
       "    <tr>\n",
       "      <th>214</th>\n",
       "      <td>3</td>\n",
       "      <td>2024-11-30</td>\n",
       "      <td>0.714779</td>\n",
       "    </tr>\n",
       "    <tr>\n",
       "      <th>215</th>\n",
       "      <td>3</td>\n",
       "      <td>2024-12-31</td>\n",
       "      <td>0.715321</td>\n",
       "    </tr>\n",
       "  </tbody>\n",
       "</table>\n",
       "<p>216 rows × 3 columns</p>\n",
       "</div>"
      ],
      "text/plain": [
       "\n",
       "     id       date     trend\n",
       "\u001b[1;36m0\u001b[0m     \u001b[1;36m1\u001b[0m \u001b[1;36m2019\u001b[0m-\u001b[1;36m01\u001b[0m-\u001b[1;36m31\u001b[0m  \u001b[1;36m0.756737\u001b[0m\n",
       "\u001b[1;36m1\u001b[0m     \u001b[1;36m1\u001b[0m \u001b[1;36m2019\u001b[0m-\u001b[1;36m02\u001b[0m-\u001b[1;36m28\u001b[0m  \u001b[1;36m0.756878\u001b[0m\n",
       "\u001b[1;36m2\u001b[0m     \u001b[1;36m1\u001b[0m \u001b[1;36m2019\u001b[0m-\u001b[1;36m03\u001b[0m-\u001b[1;36m31\u001b[0m  \u001b[1;36m0.757035\u001b[0m\n",
       "\u001b[1;36m3\u001b[0m     \u001b[1;36m1\u001b[0m \u001b[1;36m2019\u001b[0m-\u001b[1;36m04\u001b[0m-\u001b[1;36m30\u001b[0m  \u001b[1;36m0.757186\u001b[0m\n",
       "\u001b[1;36m4\u001b[0m     \u001b[1;36m1\u001b[0m \u001b[1;36m2019\u001b[0m-\u001b[1;36m05\u001b[0m-\u001b[1;36m31\u001b[0m  \u001b[1;36m0.757342\u001b[0m\n",
       "..   ..        \u001b[33m...\u001b[0m       \u001b[33m...\u001b[0m\n",
       "\u001b[1;36m211\u001b[0m   \u001b[1;36m3\u001b[0m \u001b[1;36m2024\u001b[0m-\u001b[1;36m08\u001b[0m-\u001b[1;36m31\u001b[0m  \u001b[1;36m0.713189\u001b[0m\n",
       "\u001b[1;36m212\u001b[0m   \u001b[1;36m3\u001b[0m \u001b[1;36m2024\u001b[0m-\u001b[1;36m09\u001b[0m-\u001b[1;36m30\u001b[0m  \u001b[1;36m0.713713\u001b[0m\n",
       "\u001b[1;36m213\u001b[0m   \u001b[1;36m3\u001b[0m \u001b[1;36m2024\u001b[0m-\u001b[1;36m10\u001b[0m-\u001b[1;36m31\u001b[0m  \u001b[1;36m0.714255\u001b[0m\n",
       "\u001b[1;36m214\u001b[0m   \u001b[1;36m3\u001b[0m \u001b[1;36m2024\u001b[0m-\u001b[1;36m11\u001b[0m-\u001b[1;36m30\u001b[0m  \u001b[1;36m0.714779\u001b[0m\n",
       "\u001b[1;36m215\u001b[0m   \u001b[1;36m3\u001b[0m \u001b[1;36m2024\u001b[0m-\u001b[1;36m12\u001b[0m-\u001b[1;36m31\u001b[0m  \u001b[1;36m0.715321\u001b[0m\n",
       "\n",
       "\u001b[1m[\u001b[0m\u001b[1;36m216\u001b[0m rows x \u001b[1;36m3\u001b[0m columns\u001b[1m]\u001b[0m"
      ]
     },
     "execution_count": 33,
     "metadata": {},
     "output_type": "execute_result"
    }
   ],
   "source": [
    "viz = Visualizer()\n",
    "viz.plot_time_series(ts_monthly.df, 'mean_ndvi', 'examples/ndvi_timeseries.png', agg_freq='ME')\n",
    "viz.plot_timeseries_html(ts_monthly.df, 'mean_ndvi', 'examples/ndvi_timeseries.html', agg_freq='ME')\n",
    "for pid, res in decomposed.items():\n",
    "    viz.plot_decomposition(res, f'examples/decomp/{pid}_decomp.png')\n",
    "trend.to_dataframe()"
   ]
  },
  {
   "cell_type": "code",
   "execution_count": 37,
   "id": "5eeab57c",
   "metadata": {},
   "outputs": [
    {
     "name": "stderr",
     "output_type": "stream",
     "text": [
      "2025-07-28 19:38:16 [INFO] verdesat.services.bscore – Loading AOIs from examples/reforestation_plots.geojson\n",
      "2025-07-28 19:38:16 [INFO] verdesat.services.bscore – Loading landcover image projects/sat-io/open-datasets/landcover/ESRI_Global-LULC_10m_TS\n",
      "2025-07-28 19:38:20 [INFO] verdesat.services.bscore – ✔ Converted to COG: /var/folders/bc/p78br9810cd0yyjhgq_sz2kc0000gn/T/tmpfkqz93wz/LANDCOVER_1_2021.tiff\n",
      "2025-07-28 19:38:20 [INFO] verdesat.services.bscore – Wrote landcover raster to /var/folders/bc/p78br9810cd0yyjhgq_sz2kc0000gn/T/tmpfkqz93wz/LANDCOVER_1_2021.tiff\n",
      "2025-07-28 19:38:20 [INFO] verdesat.services.bscore – Loading landcover image projects/sat-io/open-datasets/landcover/ESRI_Global-LULC_10m_TS\n",
      "2025-07-28 19:38:22 [INFO] verdesat.services.bscore – ✔ Converted to COG: /var/folders/bc/p78br9810cd0yyjhgq_sz2kc0000gn/T/tmp0m61q937/LANDCOVER_2_2021.tiff\n",
      "2025-07-28 19:38:22 [INFO] verdesat.services.bscore – Wrote landcover raster to /var/folders/bc/p78br9810cd0yyjhgq_sz2kc0000gn/T/tmp0m61q937/LANDCOVER_2_2021.tiff\n",
      "2025-07-28 19:38:22 [INFO] verdesat.services.bscore – Loading landcover image projects/sat-io/open-datasets/landcover/ESRI_Global-LULC_10m_TS\n",
      "2025-07-28 19:38:25 [INFO] verdesat.services.bscore – ✔ Converted to COG: /var/folders/bc/p78br9810cd0yyjhgq_sz2kc0000gn/T/tmp2n4yc3sy/LANDCOVER_3_2021.tiff\n",
      "2025-07-28 19:38:25 [INFO] verdesat.services.bscore – Wrote landcover raster to /var/folders/bc/p78br9810cd0yyjhgq_sz2kc0000gn/T/tmp2n4yc3sy/LANDCOVER_3_2021.tiff\n",
      "2025-07-28 19:38:25 [INFO] verdesat.services.bscore – Writing results to examples/bscore.csv\n"
     ]
    },
    {
     "data": {
      "text/html": [
       "<pre style=\"white-space:pre;overflow-x:auto;line-height:normal;font-family:Menlo,'DejaVu Sans Mono',consolas,'Courier New',monospace\"></pre>\n"
      ],
      "text/plain": []
     },
     "metadata": {},
     "output_type": "display_data"
    },
    {
     "data": {
      "application/vnd.microsoft.datawrangler.viewer.v0+json": {
       "columns": [
        {
         "name": "Site ID",
         "rawType": "int64",
         "type": "integer"
        },
        {
         "name": "Start Date",
         "rawType": "object",
         "type": "string"
        },
        {
         "name": "End Date",
         "rawType": "object",
         "type": "string"
        },
        {
         "name": "Num Periods",
         "rawType": "int64",
         "type": "integer"
        },
        {
         "name": "% Gapfilled",
         "rawType": "float64",
         "type": "float"
        },
        {
         "name": "Mean NDVI",
         "rawType": "float64",
         "type": "float"
        },
        {
         "name": "Median NDVI",
         "rawType": "float64",
         "type": "float"
        },
        {
         "name": "Min NDVI",
         "rawType": "float64",
         "type": "float"
        },
        {
         "name": "Max NDVI",
         "rawType": "float64",
         "type": "float"
        },
        {
         "name": "Std NDVI",
         "rawType": "float64",
         "type": "float"
        },
        {
         "name": "Sen's Slope (NDVI/yr)",
         "rawType": "float64",
         "type": "float"
        },
        {
         "name": "Trend ΔNDVI",
         "rawType": "float64",
         "type": "float"
        },
        {
         "name": "Mann–Kendall p-value",
         "rawType": "float64",
         "type": "float"
        },
        {
         "name": "Seasonal Amplitude",
         "rawType": "float64",
         "type": "float"
        },
        {
         "name": "Peak Month",
         "rawType": "object",
         "type": "string"
        },
        {
         "name": "Residual RMS",
         "rawType": "float64",
         "type": "float"
        },
        {
         "name": "id",
         "rawType": "int64",
         "type": "integer"
        },
        {
         "name": "bscore",
         "rawType": "float64",
         "type": "float"
        }
       ],
       "ref": "7fdeffc3-3f77-4540-b5f1-6a25b3cde0a5",
       "rows": [
        [
         "1",
         "2019-01",
         "2024-12",
         "2178",
         null,
         "0.7614044151960866",
         "0.7651689088224932",
         "0.5414516446780422",
         "0.8934061697952915",
         "0.05465286244175622",
         "-0.002309834792551078",
         "-0.005403466414461877",
         "0.05569962596664964",
         "0.10824574343090859",
         "2019-08",
         "0.03390983679412675",
         "1",
         "61.8185122690308"
        ],
        [
         "2",
         "2019-01",
         "2024-12",
         "2178",
         null,
         "0.6258426709334182",
         "0.6286581539162539",
         "0.4003088308673488",
         "0.8475352736928087",
         "0.10759181446908521",
         "-0.01153178921177327",
         "-0.017681197378742075",
         "1.6170231199277745e-06",
         "0.2384891343717837",
         "2019-09",
         "0.024384976372292057",
         "2",
         "53.621752510715325"
        ],
        [
         "3",
         "2019-01",
         "2024-12",
         "2178",
         null,
         "0.6852852281444372",
         "0.6834045924863561",
         "0.5406845942354672",
         "0.8068310585765304",
         "0.06484782883653345",
         "-0.0002787226518933602",
         "0.005141590835203935",
         "0.8582659408455309",
         "0.14577014933741028",
         "2019-07",
         "0.017900563142635304",
         "3",
         "75.40149065367345"
        ]
       ],
       "shape": {
        "columns": 17,
        "rows": 3
       }
      },
      "text/html": [
       "<div>\n",
       "<style scoped>\n",
       "    .dataframe tbody tr th:only-of-type {\n",
       "        vertical-align: middle;\n",
       "    }\n",
       "\n",
       "    .dataframe tbody tr th {\n",
       "        vertical-align: top;\n",
       "    }\n",
       "\n",
       "    .dataframe thead th {\n",
       "        text-align: right;\n",
       "    }\n",
       "</style>\n",
       "<table border=\"1\" class=\"dataframe\">\n",
       "  <thead>\n",
       "    <tr style=\"text-align: right;\">\n",
       "      <th></th>\n",
       "      <th>Start Date</th>\n",
       "      <th>End Date</th>\n",
       "      <th>Num Periods</th>\n",
       "      <th>% Gapfilled</th>\n",
       "      <th>Mean NDVI</th>\n",
       "      <th>Median NDVI</th>\n",
       "      <th>Min NDVI</th>\n",
       "      <th>Max NDVI</th>\n",
       "      <th>Std NDVI</th>\n",
       "      <th>Sen's Slope (NDVI/yr)</th>\n",
       "      <th>Trend ΔNDVI</th>\n",
       "      <th>Mann–Kendall p-value</th>\n",
       "      <th>Seasonal Amplitude</th>\n",
       "      <th>Peak Month</th>\n",
       "      <th>Residual RMS</th>\n",
       "      <th>id</th>\n",
       "      <th>bscore</th>\n",
       "    </tr>\n",
       "    <tr>\n",
       "      <th>Site ID</th>\n",
       "      <th></th>\n",
       "      <th></th>\n",
       "      <th></th>\n",
       "      <th></th>\n",
       "      <th></th>\n",
       "      <th></th>\n",
       "      <th></th>\n",
       "      <th></th>\n",
       "      <th></th>\n",
       "      <th></th>\n",
       "      <th></th>\n",
       "      <th></th>\n",
       "      <th></th>\n",
       "      <th></th>\n",
       "      <th></th>\n",
       "      <th></th>\n",
       "      <th></th>\n",
       "    </tr>\n",
       "  </thead>\n",
       "  <tbody>\n",
       "    <tr>\n",
       "      <th>1</th>\n",
       "      <td>2019-01</td>\n",
       "      <td>2024-12</td>\n",
       "      <td>2178</td>\n",
       "      <td>NaN</td>\n",
       "      <td>0.761404</td>\n",
       "      <td>0.765169</td>\n",
       "      <td>0.541452</td>\n",
       "      <td>0.893406</td>\n",
       "      <td>0.054653</td>\n",
       "      <td>-0.002310</td>\n",
       "      <td>-0.005403</td>\n",
       "      <td>0.055700</td>\n",
       "      <td>0.108246</td>\n",
       "      <td>2019-08</td>\n",
       "      <td>0.033910</td>\n",
       "      <td>1</td>\n",
       "      <td>61.818512</td>\n",
       "    </tr>\n",
       "    <tr>\n",
       "      <th>2</th>\n",
       "      <td>2019-01</td>\n",
       "      <td>2024-12</td>\n",
       "      <td>2178</td>\n",
       "      <td>NaN</td>\n",
       "      <td>0.625843</td>\n",
       "      <td>0.628658</td>\n",
       "      <td>0.400309</td>\n",
       "      <td>0.847535</td>\n",
       "      <td>0.107592</td>\n",
       "      <td>-0.011532</td>\n",
       "      <td>-0.017681</td>\n",
       "      <td>0.000002</td>\n",
       "      <td>0.238489</td>\n",
       "      <td>2019-09</td>\n",
       "      <td>0.024385</td>\n",
       "      <td>2</td>\n",
       "      <td>53.621753</td>\n",
       "    </tr>\n",
       "    <tr>\n",
       "      <th>3</th>\n",
       "      <td>2019-01</td>\n",
       "      <td>2024-12</td>\n",
       "      <td>2178</td>\n",
       "      <td>NaN</td>\n",
       "      <td>0.685285</td>\n",
       "      <td>0.683405</td>\n",
       "      <td>0.540685</td>\n",
       "      <td>0.806831</td>\n",
       "      <td>0.064848</td>\n",
       "      <td>-0.000279</td>\n",
       "      <td>0.005142</td>\n",
       "      <td>0.858266</td>\n",
       "      <td>0.145770</td>\n",
       "      <td>2019-07</td>\n",
       "      <td>0.017901</td>\n",
       "      <td>3</td>\n",
       "      <td>75.401491</td>\n",
       "    </tr>\n",
       "  </tbody>\n",
       "</table>\n",
       "</div>"
      ],
      "text/plain": [
       "\n",
       "        Start Date End Date  Num Periods  % Gapfilled  Mean NDVI  Median NDVI  \\\n",
       "Site ID                                                                         \n",
       "\u001b[1;36m1\u001b[0m          \u001b[1;36m2019\u001b[0m-\u001b[1;36m01\u001b[0m  \u001b[1;36m2024\u001b[0m-\u001b[1;36m12\u001b[0m         \u001b[1;36m2178\u001b[0m          NaN   \u001b[1;36m0.761404\u001b[0m     \u001b[1;36m0.765169\u001b[0m   \n",
       "\u001b[1;36m2\u001b[0m          \u001b[1;36m2019\u001b[0m-\u001b[1;36m01\u001b[0m  \u001b[1;36m2024\u001b[0m-\u001b[1;36m12\u001b[0m         \u001b[1;36m2178\u001b[0m          NaN   \u001b[1;36m0.625843\u001b[0m     \u001b[1;36m0.628658\u001b[0m   \n",
       "\u001b[1;36m3\u001b[0m          \u001b[1;36m2019\u001b[0m-\u001b[1;36m01\u001b[0m  \u001b[1;36m2024\u001b[0m-\u001b[1;36m12\u001b[0m         \u001b[1;36m2178\u001b[0m          NaN   \u001b[1;36m0.685285\u001b[0m     \u001b[1;36m0.683405\u001b[0m   \n",
       "\n",
       "         Min NDVI  Max NDVI  Std NDVI  Sen's Slope \u001b[1m(\u001b[0mNDVI/yr\u001b[1m)\u001b[0m  Trend ΔNDVI  \\\n",
       "Site ID                                                                     \n",
       "\u001b[1;36m1\u001b[0m        \u001b[1;36m0.541452\u001b[0m  \u001b[1;36m0.893406\u001b[0m  \u001b[1;36m0.054653\u001b[0m              \u001b[1;36m-0.002310\u001b[0m    \u001b[1;36m-0.005403\u001b[0m   \n",
       "\u001b[1;36m2\u001b[0m        \u001b[1;36m0.400309\u001b[0m  \u001b[1;36m0.847535\u001b[0m  \u001b[1;36m0.107592\u001b[0m              \u001b[1;36m-0.011532\u001b[0m    \u001b[1;36m-0.017681\u001b[0m   \n",
       "\u001b[1;36m3\u001b[0m        \u001b[1;36m0.540685\u001b[0m  \u001b[1;36m0.806831\u001b[0m  \u001b[1;36m0.064848\u001b[0m              \u001b[1;36m-0.000279\u001b[0m     \u001b[1;36m0.005142\u001b[0m   \n",
       "\n",
       "         Mann–Kendall p-value  Seasonal Amplitude Peak Month  Residual RMS  \\\n",
       "Site ID                                                                      \n",
       "\u001b[1;36m1\u001b[0m                    \u001b[1;36m0.055700\u001b[0m            \u001b[1;36m0.108246\u001b[0m    \u001b[1;36m2019\u001b[0m-\u001b[1;36m08\u001b[0m      \u001b[1;36m0.033910\u001b[0m   \n",
       "\u001b[1;36m2\u001b[0m                    \u001b[1;36m0.000002\u001b[0m            \u001b[1;36m0.238489\u001b[0m    \u001b[1;36m2019\u001b[0m-\u001b[1;36m09\u001b[0m      \u001b[1;36m0.024385\u001b[0m   \n",
       "\u001b[1;36m3\u001b[0m                    \u001b[1;36m0.858266\u001b[0m            \u001b[1;36m0.145770\u001b[0m    \u001b[1;36m2019\u001b[0m-\u001b[1;36m07\u001b[0m      \u001b[1;36m0.017901\u001b[0m   \n",
       "\n",
       "         id     bscore  \n",
       "Site ID                 \n",
       "\u001b[1;36m1\u001b[0m         \u001b[1;36m1\u001b[0m  \u001b[1;36m61.818512\u001b[0m  \n",
       "\u001b[1;36m2\u001b[0m         \u001b[1;36m2\u001b[0m  \u001b[1;36m53.621753\u001b[0m  \n",
       "\u001b[1;36m3\u001b[0m         \u001b[1;36m3\u001b[0m  \u001b[1;36m75.401491\u001b[0m  "
      ]
     },
     "execution_count": 37,
     "metadata": {},
     "output_type": "execute_result"
    },
    {
     "data": {
      "text/html": [
       "<pre style=\"white-space:pre;overflow-x:auto;line-height:normal;font-family:Menlo,'DejaVu Sans Mono',consolas,'Courier New',monospace\"></pre>\n"
      ],
      "text/plain": []
     },
     "metadata": {},
     "output_type": "display_data"
    },
    {
     "data": {
      "image/png": "[encoded data removed]",
      "text/plain": [
       "\u001b[1m<\u001b[0m\u001b[1;95mFigure\u001b[0m\u001b[39m size 80\u001b[0m\u001b[1;36m0x400\u001b[0m\u001b[39m with \u001b[0m\u001b[1;36m1\u001b[0m\u001b[39m Axes\u001b[0m\u001b[1m>\u001b[0m"
      ]
     },
     "metadata": {},
     "output_type": "display_data"
    }
   ],
   "source": [
    "\n",
    "from verdesat.services.bscore import compute_bscores\n",
    "df_stats = stats.to_dataframe()\n",
    "df_scores = compute_bscores(geojson_path, year=2021, output='examples/bscore.csv')\n",
    "df = df_stats.merge(df_scores, left_on='Site ID', right_on='id').set_index('Site ID')\n",
    "df[['bscore', \"Sen's Slope (NDVI/yr)\"]].plot.bar(figsize=(8,4))\n",
    "df.head()"
   ]
  },
  {
   "cell_type": "code",
   "execution_count": null,
   "id": "6fe3a3a9",
   "metadata": {},
   "outputs": [],
   "source": [
    "# All plots have been written to the examples directory."
   ]
  },
  {
   "cell_type": "markdown",
   "id": "4ada7a4f",
   "metadata": {},
   "source": [
    "### What do the metrics tell us?\n",
    "\n",
    "* **Mean NDVI** represents the average greenness of each plot over time.\n",
    "* **Seasonal amplitude** captures the difference between peak and trough NDVI values, highlighting intra‑annual variability.\n",
    "* **Sen's slope** estimates the yearly change in NDVI after removing seasonal effects.\n",
    "* **Residual RMS** indicates how much short‑term noise remains after decomposition.\n",
    "\n",
    "Together these metrics help compare the three reforestation plots and understand which ones are improving the fastest."
   ]
  }
 ],
 "metadata": {
  "language_info": {
   "name": "python"
  }
 },
 "nbformat": 4,
 "nbformat_minor": 5
}
