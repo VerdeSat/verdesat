{
 "cells": [
  {
   "cell_type": "markdown",
   "id": "942083be",
   "metadata": {},
   "source": [
    "# Example: Monitoring Reforestation Projects\n",
    "This notebook demonstrates how to work with **VerdeSat** services on a real-world dataset. The GeoJSON below represents three small reforestation projects in Chiapas, Mexico. We'll compute NDVI time series, land-cover metrics, a B-Score, and validate using citizen‑science observations."
   ]
  },
  {
   "cell_type": "code",
   "execution_count": null,
   "id": "c2756977",
   "metadata": {},
   "outputs": [],
   "source": [
    "projects = {'type': 'FeatureCollection', 'crs': {'type': 'name', 'properties': {'name': 'urn:ogc:def:crs:OGC:1.3:CRS84'}}, 'features': [{'type': 'Feature', 'properties': {'ID2': '1', 'begin': 1, 'end': 18}, 'geometry': {'type': 'Polygon', 'coordinates': [[[-92.536677, 16.792115], [-92.536959, 16.792274], [-92.537128, 16.792159], [-92.537484, 16.792235], [-92.537649, 16.792057], [-92.53778, 16.79191], [-92.538325, 16.791339], [-92.538577, 16.791112], [-92.538923, 16.791373], [-92.539213, 16.791613], [-92.53940576522994, 16.791425466380506], [-92.53958236103772, 16.790866930802427], [-92.53968503301898, 16.790690334994654], [-92.53892115347838, 16.790645159322896], [-92.53788621990724, 16.7906615868399], [-92.537721, 16.790921], [-92.53701641851495, 16.791612590371088], [-92.536755713398, 16.791836381489187], [-92.5365480721544, 16.792014030108707], [-92.536677, 16.792115]]]}}, {'type': 'Feature', 'properties': {'ID2': '3', 'begin': 1, 'end': 14}, 'geometry': {'type': 'Polygon', 'coordinates': [[[-92.5808981763879, 16.732460825879528], [-92.581191, 16.732219], [-92.58179714693802, 16.732658904136333], [-92.581744, 16.732794], [-92.581727, 16.733013], [-92.58162954225918, 16.73317187603216], [-92.58186317302362, 16.73362897970171], [-92.58267072283982, 16.73342582251524], [-92.58270627534745, 16.734319714135694], [-92.582896, 16.734613], [-92.58269103855847, 16.734847922820503], [-92.58225425060756, 16.734903791046783], [-92.58211204057703, 16.734858080679828], [-92.58172096299309, 16.734147030527197], [-92.58136035898711, 16.73341566465592], [-92.5812283068159, 16.733319164992345], [-92.58088801852858, 16.732740167010917], [-92.5808981763879, 16.732460825879528]]]}}, {'type': 'Feature', 'properties': {'ID2': '2', 'begin': 1, 'end': 10}, 'geometry': {'type': 'Polygon', 'coordinates': [[[-92.58521886248299, 16.740003], [-92.585216, 16.739751], [-92.585451, 16.739441], [-92.58635537981617, 16.73967626576365], [-92.586595, 16.739985], [-92.5868978311093, 16.739990316512305], [-92.58732608213019, 16.740475667669315], [-92.587351, 16.740759], [-92.58745455743646, 16.741068081581552], [-92.58756162019168, 16.742117296582745], [-92.58746883247049, 16.742467034916473], [-92.586006, 16.743663], [-92.585012, 16.743668], [-92.584586, 16.74378], [-92.58419086248298, 16.742659587448955], [-92.58483508869199, 16.74253841008662], [-92.58513486440661, 16.74220294678692], [-92.58529902729796, 16.74051135525439], [-92.58521886248299, 16.740003]]]}}]}"
   ]
  },
  {
   "cell_type": "code",
   "execution_count": null,
   "id": "cee6c092",
   "metadata": {},
   "outputs": [],
   "source": [
    "from verdesat.geo.aoi import AOI\n",
    "from verdesat.ingestion.earthengine_ingestor import EarthEngineIngestor\n",
    "from verdesat.ingestion.sensorspec import SensorSpec\n",
    "from verdesat.analytics.timeseries import TimeSeries\n",
    "from verdesat.services.landcover import LandcoverService\n",
    "from verdesat.biodiv.metrics import MetricEngine\n",
    "from verdesat.biodiv.bscore import BScoreCalculator\n",
    "from verdesat.biodiv.gbif_validator import OccurrenceService, plot_score_vs_density\n"
   ]
  },
  {
   "cell_type": "code",
   "execution_count": null,
   "id": "42a84b94",
   "metadata": {},
   "outputs": [],
   "source": [
    "# Parse AOIs\n",
    "aois = AOI.from_geojson(projects, id_col='ID2')\n",
    "print('Loaded', len(aois), 'projects')"
   ]
  },
  {
   "cell_type": "code",
   "execution_count": null,
   "id": "348dabf3",
   "metadata": {},
   "outputs": [],
   "source": [
    "# Download NDVI time series (requires EE authentication)\n",
    "# sensor = SensorSpec.from_collection_id('COPERNICUS/S2_SR')\n",
    "# ingestor = EarthEngineIngestor(sensor)\n",
    "# ndvi_dfs = [ingestor.download_timeseries(aoi, '2021-01-01', '2021-12-31', 30, 'ndvi') for aoi in aois]\n",
    "# ts = TimeSeries.from_dataframe(pd.concat(ndvi_dfs, ignore_index=True))\n"
   ]
  },
  {
   "cell_type": "code",
   "execution_count": null,
   "id": "39f53d0b",
   "metadata": {},
   "outputs": [],
   "source": [
    "# Landcover metrics and B-score\n",
    "engine = MetricEngine()\n",
    "calc = BScoreCalculator()\n",
    "# metrics = [engine.run_all(aoi, year=2021) for aoi in aois]\n",
    "# scores = [calc.score(m) for m in metrics]\n"
   ]
  },
  {
   "cell_type": "code",
   "execution_count": null,
   "id": "a276bcd6",
   "metadata": {},
   "outputs": [],
   "source": [
    "# Validate using citizen-science data\n",
    "occ_svc = OccurrenceService()\n",
    "# occurrences = [occ_svc.fetch_occurrences(aoi) for aoi in aois]\n",
    "# densities = [occ_svc.occurrence_density_km2(gdf, aoi.geometry.area*111**2) for gdf, aoi in zip(occurrences, aois)]\n"
   ]
  },
  {
   "cell_type": "code",
   "execution_count": null,
   "id": "6fe3a3a9",
   "metadata": {},
   "outputs": [],
   "source": [
    "# Example plot (uncomment when you have real scores and densities)\n",
    "# plot_score_vs_density(scores, densities, 'bscore_vs_occurrence.png')\n"
   ]
  }
 ],
 "metadata": {},
 "nbformat": 4,
 "nbformat_minor": 5
}