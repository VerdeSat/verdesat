{
 "cells": [
  {
   "cell_type": "markdown",
   "id": "942083be",
   "metadata": {},
   "source": [
    "# Example: Monitoring Reforestation Projects\n",
    "This notebook demonstrates how to work with **VerdeSat** services on a real-world dataset. The GeoJSON below represents three small reforestation projects in Chiapas, Mexico. We'll compute NDVI time series, land-cover metrics, a B-Score, and validate using citizen‑science observations."
   ]
  },
  {
   "cell_type": "code",
   "execution_count": null,
   "id": "c2756977",
   "metadata": {},
   "outputs": [],
   "source": [
    "geojson_path = \"examples/reforestation_plots.geojson\""
   ]
  },
  {
   "cell_type": "code",
   "execution_count": null,
   "id": "cee6c092",
   "metadata": {},
   "outputs": [],
   "source": [
    "from verdesat.geo.aoi import AOI\n",
    "from verdesat.ingestion.earthengine_ingestor import EarthEngineIngestor\n",
    "from verdesat.ingestion.sensorspec import SensorSpec\n",
    "from verdesat.analytics.timeseries import TimeSeries\n",
    "from verdesat.services.landcover import LandcoverService\n",
    "from verdesat.biodiv.metrics import MetricEngine\n",
    "from verdesat.biodiv.bscore import BScoreCalculator\n",
    "from verdesat.biodiv.gbif_validator import OccurrenceService, plot_score_vs_density\n"
   ]
  },
  {
   "cell_type": "code",
   "execution_count": null,
   "id": "42a84b94",
   "metadata": {},
   "outputs": [],
   "source": [
    "aois = AOI.from_geojson(geojson_path, id_col='ID2')\n",
    "for aoi in aois:\n",
    "    print(aoi.static_props.get('id'), aoi.geometry.area)"
   ]
  },
  {
   "cell_type": "code",
   "execution_count": null,
   "id": "348dabf3",
   "metadata": {},
   "outputs": [],
   "source": [
    "from verdesat.services.timeseries import download_timeseries\n",
    "\n",
    "ts_df = download_timeseries(\n",
    "    geojson=geojson_path,\n",
    "    collection='NASA/HLS/HLSL30/v002',\n",
    "    start='2019-01-01',\n",
    "    end='2024-12-31',\n",
    "    scale=30,\n",
    "    chunk_freq='ME',\n",
    "    agg='D',\n",
    "    output='examples/reforestation_ts.csv',\n",
    ")\n",
    "ts_df.head()"
   ]
  },
  {
   "cell_type": "code",
   "execution_count": null,
   "id": "39f53d0b",
   "metadata": {},
   "outputs": [],
   "source": [
    "from verdesat.analytics.timeseries import TimeSeries\n",
    "from verdesat.analytics.engine import AnalyticsEngine\n",
    "from verdesat.analytics.stats import compute_summary_stats\n",
    "from verdesat.visualization.visualizer import Visualizer\n",
    "import pandas as pd, os\n",
    "\n",
    "ts = TimeSeries.from_dataframe(ts_df, index='ndvi')\n",
    "ts_monthly = ts.aggregate('ME').fill_gaps()\n",
    "decomposed = ts_monthly.decompose(period=12)\n",
    "\n",
    "os.makedirs('examples/decomp', exist_ok=True)\n",
    "for pid, res in decomposed.items():\n",
    "    pd.DataFrame({\n",
    "        'date': res.observed.index,\n",
    "        'observed': res.observed.values,\n",
    "        'trend': res.trend.values,\n",
    "        'seasonal': res.seasonal.values,\n",
    "        'resid': res.resid.values,\n",
    "    }).to_csv(f'examples/decomp/{pid}_decomposition.csv', index=False)\n",
    "\n",
    "trend = AnalyticsEngine.compute_trend(ts_monthly)\n",
    "stats = compute_summary_stats('examples/reforestation_ts.csv', decomp_dir='examples/decomp', period=12)\n",
    "stats.to_dataframe()"
   ]
  },
  {
   "cell_type": "code",
   "execution_count": null,
   "id": "a276bcd6",
   "metadata": {},
   "outputs": [],
   "source": [
    "viz = Visualizer()\n",
    "viz.plot_time_series(ts_monthly.df, 'mean_ndvi', 'examples/ndvi_timeseries.png', agg_freq='ME')\n",
    "viz.plot_timeseries_html(ts_monthly.df, 'mean_ndvi', 'examples/ndvi_timeseries.html', agg_freq='ME')\n",
    "for pid, res in decomposed.items():\n",
    "    viz.plot_decomposition(res, f'examples/decomp/{pid}_decomp.png')\n",
    "trend.to_dataframe()"
   ]
  },
  {
   "cell_type": "code",
   "execution_count": null,
   "id": "6fe3a3a9",
   "metadata": {},
   "outputs": [],
   "source": [
    "# All plots have been written to the examples directory."
   ]
  },
  {
   "cell_type": "markdown",
   "id": "4ada7a4f",
   "metadata": {},
   "source": [
    "### What do the metrics tell us?\n",
    "\n",
    "* **Mean NDVI** represents the average greenness of each plot over time.\n",
    "* **Seasonal amplitude** captures the difference between peak and trough NDVI values, highlighting intra‑annual variability.\n",
    "* **Sen's slope** estimates the yearly change in NDVI after removing seasonal effects.\n",
    "* **Residual RMS** indicates how much short‑term noise remains after decomposition.\n",
    "\n",
    "Together these metrics help compare the three reforestation plots and understand which ones are improving the fastest."
   ]
  }
 ],
 "metadata": {},
 "nbformat": 4,
 "nbformat_minor": 5
}
