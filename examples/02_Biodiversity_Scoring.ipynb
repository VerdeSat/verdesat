{
 "cells": [
  {
   "cell_type": "markdown",
   "id": "955bcac5",
   "metadata": {},
   "source": [
    "# VerdeSat Example 2: Biodiversity Scoring\n",
    "This notebook shows how to compute biodiversity metrics, derive a composite B-Score and validate it using citizen-science occurrences."
   ]
  },
  {
   "cell_type": "code",
   "execution_count": null,
   "id": "5647d1eb",
   "metadata": {},
   "outputs": [],
   "source": [
    "import numpy as np\n",
    "from shapely.geometry import Polygon\n",
    "from verdesat.geo.aoi import AOI\n",
    "from verdesat.services.landcover import LandcoverService\n",
    "from verdesat.biodiv.metrics import MetricEngine\n",
    "from verdesat.biodiv.bscore import BScoreCalculator, WeightsConfig\n",
    "from verdesat.biodiv.gbif_validator import OccurrenceService"
   ]
  },
  {
   "cell_type": "markdown",
   "id": "b5c33ec2",
   "metadata": {},
   "source": [
    "## 1. Prepare AOI and download land-cover"
   ]
  },
  {
   "cell_type": "code",
   "execution_count": null,
   "id": "260f1234",
   "metadata": {},
   "outputs": [],
   "source": [
    "aoi = AOI(\n",
    "    Polygon([(0, 0), (0, 1), (1, 1), (1, 0), (0, 0)]),\n",
    "    static_props={\"id\": 1, \"biome_id\": 1},\n",
    ")\n",
    "svc = LandcoverService()\n",
    "# Uncomment when authenticated with Earth Engine\n",
    "# raster_path = svc.download(aoi, year=2021, out_dir='landcover')"
   ]
  },
  {
   "cell_type": "markdown",
   "id": "bbc4d3fc",
   "metadata": {},
   "source": [
    "## 2. Compute biodiversity metrics and B-Score"
   ]
  },
  {
   "cell_type": "code",
   "execution_count": null,
   "id": "83f59873",
   "metadata": {},
   "outputs": [],
   "source": [
    "engine = MetricEngine()\n",
    "# metrics = engine.run_all(aoi, year=2021, landcover_path=raster_path)\n",
    "# For demo we use random metrics\n",
    "import types\n",
    "\n",
    "metrics = types.SimpleNamespace(\n",
    "    intactness=0.6,\n",
    "    shannon=0.4,\n",
    "    fragmentation=types.SimpleNamespace(edge_density=0.1, normalised_density=0.1),\n",
    ")\n",
    "calc = BScoreCalculator(WeightsConfig(intactness=1, shannon=1, fragmentation=1))\n",
    "score = calc.score(metrics)\n",
    "print(\"B-Score:\", score)"
   ]
  },
  {
   "cell_type": "markdown",
   "id": "c2c3881c",
   "metadata": {},
   "source": [
    "## 3. Validate with occurrence density"
   ]
  },
  {
   "cell_type": "code",
   "execution_count": null,
   "id": "b4411976",
   "metadata": {},
   "outputs": [],
   "source": [
    "occ_svc = OccurrenceService()\n",
    "# gdf = occ_svc.fetch_occurrences(aoi.geometry)\n",
    "# density = occ_svc.occurrence_density_km2(gdf, aoi.geometry.area*111**2)"
   ]
  },
  {
   "cell_type": "markdown",
   "id": "dfe34705",
   "metadata": {},
   "source": [
    "The metric engine, B-Score calculator and occurrence service help evaluate biodiversity co-benefits and validate scores using citizen-science data."
   ]
  }
 ],
 "metadata": {},
 "nbformat": 4,
 "nbformat_minor": 5
}
