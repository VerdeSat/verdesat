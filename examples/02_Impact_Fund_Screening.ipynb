{
 "cells": [
  {
   "cell_type": "markdown",
   "id": "b3c76c63",
   "metadata": {},
   "source": [
    "# Example: Impact Fund Screening\n",
    "In this example we score potential land acquisitions in batch. The workflow shows how to combine land-cover metrics, B-Score calculation and occurrence density."
   ]
  },
  {
   "cell_type": "code",
   "execution_count": null,
   "id": "9e780a3b",
   "metadata": {},
   "outputs": [],
   "source": [
    "from pathlib import Path\n",
    "import pandas as pd\n",
    "from verdesat.geo.aoi import AOI\n",
    "from verdesat.services.bscore import compute_bscores\n",
    "from verdesat.biodiv.gbif_validator import OccurrenceService\n"
   ]
  },
  {
   "cell_type": "code",
   "execution_count": null,
   "id": "fdf30ab3",
   "metadata": {},
   "outputs": [],
   "source": [
    "# Load AOIs from the GeoJSON defined in the previous notebook\n",
    "projects = eval(Path('examples/01_Reforestation_Analysis.ipynb').read_text().split('projects = ')[1].split('\n",
    "')[0])\n",
    "aois = AOI.from_geojson(projects, id_col='ID2')"
   ]
  },
  {
   "cell_type": "code",
   "execution_count": null,
   "id": "6f56a062",
   "metadata": {},
   "outputs": [],
   "source": [
    "df_scores = compute_bscores(Path('examples')/'aoi.geojson' if False else projects, year=2021)\n",
    "df_scores['id'] = df_scores['id'].astype(int)\n",
    "print(df_scores)"
   ]
  },
  {
   "cell_type": "code",
   "execution_count": null,
   "id": "41288fbf",
   "metadata": {},
   "outputs": [],
   "source": [
    "occ = OccurrenceService()\n",
    "# dens = [occ.occurrence_density_km2(occ.fetch_occurrences(aoi), aoi.geometry.area*111**2) for aoi in aois]\n"
   ]
  }
 ],
 "metadata": {},
 "nbformat": 4,
 "nbformat_minor": 5
}