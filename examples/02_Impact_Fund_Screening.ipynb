{
 "cells": [
  {
   "cell_type": "markdown",
   "id": "b3c76c63",
   "metadata": {},
   "source": [
    "# Example: Impact Fund Screening\n",
    "In this example we score potential land acquisitions in batch. The workflow shows how to combine land-cover metrics, B-Score calculation and occurrence density."
   ]
  },
  {
   "cell_type": "code",
   "execution_count": 18,
   "id": "9e780a3b",
   "metadata": {},
   "outputs": [],
   "source": [
    "from pathlib import Path\n",
    "import pandas as pd\n",
    "from verdesat.services.bscore import compute_bscores\n",
    "from verdesat.biodiv.gbif_validator import OccurrenceService, plot_score_vs_density"
   ]
  },
  {
   "cell_type": "code",
   "execution_count": 19,
   "id": "65fd09fe",
   "metadata": {},
   "outputs": [],
   "source": [
    "geojson_path = \"examples/reforestation_plots.geojson\""
   ]
  },
  {
   "cell_type": "code",
   "execution_count": 22,
   "id": "fdf30ab3",
   "metadata": {},
   "outputs": [],
   "source": [
    "# Load AOIs from GeoJSON\n",
    "from verdesat.geo.aoi import AOI\n",
    "projects_path = geojson_path\n",
    "projects = AOI.from_geojson(projects_path, id_col='ID2')"
   ]
  },
  {
   "cell_type": "code",
   "execution_count": 23,
   "id": "6f56a062",
   "metadata": {},
   "outputs": [
    {
     "name": "stderr",
     "output_type": "stream",
     "text": [
      "2025-07-28 19:29:11 [INFO] verdesat.services.bscore – Loading AOIs from examples/reforestation_plots.geojson\n",
      "2025-07-28 19:29:11 [INFO] verdesat.services.bscore – Loading landcover image projects/sat-io/open-datasets/landcover/ESRI_Global-LULC_10m_TS\n",
      "2025-07-28 19:29:13 [INFO] verdesat.services.bscore – ✔ Converted to COG: /var/folders/bc/p78br9810cd0yyjhgq_sz2kc0000gn/T/tmpeuyg1925/LANDCOVER_1_2021.tiff\n",
      "2025-07-28 19:29:13 [INFO] verdesat.services.bscore – Wrote landcover raster to /var/folders/bc/p78br9810cd0yyjhgq_sz2kc0000gn/T/tmpeuyg1925/LANDCOVER_1_2021.tiff\n",
      "2025-07-28 19:29:13 [INFO] verdesat.services.bscore – Loading landcover image projects/sat-io/open-datasets/landcover/ESRI_Global-LULC_10m_TS\n",
      "2025-07-28 19:29:17 [INFO] verdesat.services.bscore – ✔ Converted to COG: /var/folders/bc/p78br9810cd0yyjhgq_sz2kc0000gn/T/tmppkfsi4tg/LANDCOVER_2_2021.tiff\n",
      "2025-07-28 19:29:17 [INFO] verdesat.services.bscore – Wrote landcover raster to /var/folders/bc/p78br9810cd0yyjhgq_sz2kc0000gn/T/tmppkfsi4tg/LANDCOVER_2_2021.tiff\n",
      "2025-07-28 19:29:17 [INFO] verdesat.services.bscore – Loading landcover image projects/sat-io/open-datasets/landcover/ESRI_Global-LULC_10m_TS\n",
      "2025-07-28 19:29:19 [INFO] verdesat.services.bscore – ✔ Converted to COG: /var/folders/bc/p78br9810cd0yyjhgq_sz2kc0000gn/T/tmpcsjrt_zd/LANDCOVER_3_2021.tiff\n",
      "2025-07-28 19:29:19 [INFO] verdesat.services.bscore – Wrote landcover raster to /var/folders/bc/p78br9810cd0yyjhgq_sz2kc0000gn/T/tmpcsjrt_zd/LANDCOVER_3_2021.tiff\n",
      "2025-07-28 19:29:19 [INFO] verdesat.services.bscore – Writing results to examples/bscore.csv\n"
     ]
    }
   ],
   "source": [
    "df_scores = compute_bscores(projects_path, year=2021, output='examples/bscore.csv')\n",
    "df_scores['id'] = df_scores['id'].astype(int)"
   ]
  },
  {
   "cell_type": "code",
   "execution_count": 24,
   "id": "41288fbf",
   "metadata": {},
   "outputs": [
    {
     "name": "stderr",
     "output_type": "stream",
     "text": [
      "2025-07-28 19:29:36 [INFO] verdesat.biodiv.gbif_validator – Fetching occurrences since 2000 for bbox (-92.53968503301898, 16.790645159322896, -92.5365480721544, 16.792274)\n",
      "2025-07-28 19:29:36 [INFO] verdesat.biodiv.gbif_validator – Fetched 12 GBIF records\n",
      "2025-07-28 19:29:36 [INFO] verdesat.biodiv.gbif_validator – EBIRD_TOKEN not set; skipping eBird fallback\n",
      "2025-07-28 19:29:36 [INFO] verdesat.biodiv.gbif_validator – Querying iNaturalist within bbox (-92.53968503301898, 16.790645159322896, -92.5365480721544, 16.792274)\n",
      "2025-07-28 19:29:36 [INFO] pyinaturalist – Request:\n",
      "GET https://api.inaturalist.org/v1/observations?d1=2000-01-01T00%3A00%3A00%2B01%3A00&nelat=16.792274&nelng=-92.5365480721544&swlat=16.790645159322896&swlng=-92.53968503301898\n",
      "User-Agent: python-requests/2.32.4 pyinaturalist/0.20.1\n",
      "Accept-Encoding: gzip, deflate, zstd\n",
      "Accept: application/json\n",
      "Connection: keep-alive\n",
      "\n",
      "2025-07-28 19:29:37 [INFO] verdesat.biodiv.gbif_validator – Fetched 2 iNaturalist records\n",
      "2025-07-28 19:29:37 [INFO] verdesat.biodiv.gbif_validator – Total records: {'gbif': 12, 'inat': 2}\n",
      "2025-07-28 19:29:37 [INFO] verdesat.biodiv.gbif_validator – Fetching occurrences since 2000 for bbox (-92.582896, 16.732219, -92.58088801852858, 16.734903791046783)\n",
      "2025-07-28 19:29:39 [WARNING] verdesat.biodiv.gbif_validator – GBIF search failed: 400 Client Error: Bad Request for url: https://api.gbif.org/v1/occurrence/search?geometry=POLYGON+%28%28-92.5808981763879+16.732460825879528%2C+-92.581191+16.732219%2C+-92.58179714693802+16.732658904136333%2C+-92.581744+16.732794%2C+-92.581727+16.733013%2C+-92.58162954225918+16.73317187603216%2C+-92.58186317302362+16.73362897970171%2C+-92.58267072283982+16.73342582251524%2C+-92.58270627534745+16.734319714135694%2C+-92.582896+16.734613%2C+-92.58269103855847+16.734847922820503%2C+-92.58225425060756+16.734903791046783%2C+-92.58211204057703+16.734858080679828%2C+-92.58172096299309+16.734147030527197%2C+-92.58136035898711+16.73341566465592%2C+-92.5812283068159+16.733319164992345%2C+-92.58088801852858+16.732740167010917%2C+-92.5808981763879+16.732460825879528%29%29&year=2000%2C2025&limit=300&offset=0; retrying with bounding box\n",
      "2025-07-28 19:29:39 [INFO] verdesat.biodiv.gbif_validator – Fetched 19 GBIF records\n",
      "2025-07-28 19:29:39 [INFO] verdesat.biodiv.gbif_validator – EBIRD_TOKEN not set; skipping eBird fallback\n",
      "2025-07-28 19:29:39 [INFO] verdesat.biodiv.gbif_validator – Querying iNaturalist within bbox (-92.582896, 16.732219, -92.58088801852858, 16.734903791046783)\n",
      "2025-07-28 19:29:39 [INFO] pyinaturalist – Request:\n",
      "GET https://api.inaturalist.org/v1/observations?d1=2000-01-01T00%3A00%3A00%2B01%3A00&nelat=16.734903791046783&nelng=-92.58088801852858&swlat=16.732219&swlng=-92.582896\n",
      "User-Agent: python-requests/2.32.4 pyinaturalist/0.20.1\n",
      "Accept-Encoding: gzip, deflate, zstd\n",
      "Accept: application/json\n",
      "Connection: keep-alive\n",
      "\n",
      "2025-07-28 19:29:42 [INFO] verdesat.biodiv.gbif_validator – Fetched 17 iNaturalist records\n",
      "2025-07-28 19:29:42 [INFO] verdesat.biodiv.gbif_validator – Total records: {'gbif': 19, 'inat': 17}\n",
      "2025-07-28 19:29:42 [INFO] verdesat.biodiv.gbif_validator – Fetching occurrences since 2000 for bbox (-92.58756162019168, 16.739441, -92.58419086248298, 16.74378)\n",
      "2025-07-28 19:29:42 [WARNING] verdesat.biodiv.gbif_validator – GBIF search failed: 400 Client Error: Bad Request for url: https://api.gbif.org/v1/occurrence/search?geometry=POLYGON+%28%28-92.58521886248299+16.740003%2C+-92.585216+16.739751%2C+-92.585451+16.739441%2C+-92.58635537981617+16.73967626576365%2C+-92.586595+16.739985%2C+-92.5868978311093+16.739990316512305%2C+-92.58732608213019+16.740475667669315%2C+-92.587351+16.740759%2C+-92.58745455743646+16.741068081581552%2C+-92.58756162019168+16.742117296582745%2C+-92.58746883247049+16.742467034916473%2C+-92.586006+16.743663%2C+-92.585012+16.743668%2C+-92.584586+16.74378%2C+-92.58419086248298+16.742659587448955%2C+-92.58483508869199+16.74253841008662%2C+-92.58513486440661+16.74220294678692%2C+-92.58529902729796+16.74051135525439%2C+-92.58521886248299+16.740003%29%29&year=2000%2C2025&limit=300&offset=0; retrying with bounding box\n",
      "2025-07-28 19:29:44 [INFO] verdesat.biodiv.gbif_validator – Fetched 300 GBIF records\n",
      "2025-07-28 19:29:44 [INFO] verdesat.biodiv.gbif_validator – Total records: {'gbif': 300}\n"
     ]
    }
   ],
   "source": [
    "occ = OccurrenceService()\n",
    "import geopandas as gpd\n",
    "densities = []\n",
    "for aoi in projects:\n",
    "    aoi_gdf = gpd.GeoDataFrame({'geometry': [aoi.geometry]}, crs='EPSG:4326')\n",
    "    gdf = occ.fetch_occurrences(aoi.geometry)\n",
    "    area_km2 = aoi_gdf.to_crs(epsg=6933).area.iloc[0] / 1e6\n",
    "    densities.append(occ.occurrence_density_km2(gdf, area_km2))\n",
    "plot_score_vs_density(df_scores['bscore'].tolist(), densities, 'examples/score_vs_density.png')"
   ]
  },
  {
   "cell_type": "markdown",
   "id": "530a35aa",
   "metadata": {},
   "source": [
    "The scatter plot compares biodiversity score with citizen-science occurrence density for each polygon."
   ]
  }
 ],
 "metadata": {
  "language_info": {
   "name": "python"
  }
 },
 "nbformat": 4,
 "nbformat_minor": 5
}
