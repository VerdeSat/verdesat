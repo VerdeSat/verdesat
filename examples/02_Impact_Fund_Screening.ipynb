{
 "cells": [
  {
   "cell_type": "markdown",
   "id": "b3c76c63",
   "metadata": {},
   "source": [
    "# Example: Impact Fund Screening\n",
    "In this example we score potential land acquisitions in batch. The workflow shows how to combine land-cover metrics, B-Score calculation and occurrence density."
   ]
  },
  {
   "cell_type": "code",
   "execution_count": null,
   "id": "9e780a3b",
   "metadata": {},
   "outputs": [],
   "source": [
    "from pathlib import Path\n",
    "import pandas as pd\n",
    "from verdesat.services.bscore import compute_bscores\n",
    "from verdesat.biodiv.gbif_validator import OccurrenceService, plot_score_vs_density"
   ]
  },
  {
   "cell_type": "code",
   "execution_count": null,
   "id": "65fd09fe",
   "metadata": {},
   "outputs": [],
   "source": [
    "geojson_path = \"examples/reforestation_plots.geojson\""
   ]
  },
  {
   "cell_type": "code",
   "execution_count": null,
   "id": "fdf30ab3",
   "metadata": {},
   "outputs": [],
   "source": [
    "# Load AOIs from GeoJSON\n",
    "projects = geojson_path"
   ]
  },
  {
   "cell_type": "code",
   "execution_count": null,
   "id": "6f56a062",
   "metadata": {},
   "outputs": [],
   "source": [
    "df_scores = compute_bscores(projects, year=2021, output='examples/bscore.csv')\n",
    "df_scores['id'] = df_scores['id'].astype(int)"
   ]
  },
  {
   "cell_type": "code",
   "execution_count": null,
   "id": "41288fbf",
   "metadata": {},
   "outputs": [],
   "source": [
    "occ = OccurrenceService()\n",
    "densities = []\n",
    "for aoi in pd.read_json(projects)['features']:\n",
    "    geom = aoi['geometry']\n",
    "    gdf = occ.fetch_occurrences(geom)\n",
    "    area_km2 = AOI.from_geojson({'type':'FeatureCollection','features':[aoi]})[0].geometry.area * 111**2\n",
    "    densities.append(occ.occurrence_density_km2(gdf, area_km2))\n",
    "plot_score_vs_density(df_scores['bscore'].tolist(), densities, 'examples/score_vs_density.png')"
   ]
  },
  {
   "cell_type": "markdown",
   "id": "530a35aa",
   "metadata": {},
   "source": [
    "The scatter plot compares biodiversity score with citizen-science occurrence density for each polygon."
   ]
  }
 ],
 "metadata": {},
 "nbformat": 4,
 "nbformat_minor": 5
}
